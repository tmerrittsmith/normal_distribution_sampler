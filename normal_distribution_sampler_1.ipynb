{
 "cells": [
  {
   "cell_type": "markdown",
   "metadata": {},
   "source": [
    "# A normal distribution sampler in python"
   ]
  },
  {
   "cell_type": "markdown",
   "metadata": {},
   "source": [
    "Last year, I had the pleasure of attending a tutorial with the great [Petros Dellaportas](http://www.homepages.ucl.ac.uk/~ucakpde/#), a one-day primer in bayesian inference. One of the main sessions was about Markov chain Monte Carlo sampling, the technique whose name inspired one of the all-time greatest blog names (and blogs) ever: ['While my MCMC gently samples'](https://twiecki.io/)... and _also_ a game-changing statistical insight when it comes to sampling from complex statistical distributions. Following the session, I caught up with Petros and asked a pretty useful question, but pretty revealing question: \n",
    "\n",
    "<p><center>'So, I kind of understand MCMC now... but why does it matter?!'</center></p>\n",
    "\n",
    "Petros being Petros was more than equal to my question:\n",
    "\n",
    "<p><center>'MCMC is a tool to sample from complex distributions. Let's start with a simple distribution, the Normal Distribution. After this session, go and write a normal distribution sampler. Then, go and look up the Box-Mueller method, and you'll realise that MCMC matters.</center></p>\n",
    "\n",
    "So, here's my naive attempt. Further down, we'll see how limiting it is, and how we can do better. "
   ]
  },
  {
   "cell_type": "code",
   "execution_count": 2,
   "metadata": {},
   "outputs": [],
   "source": [
    "import numpy as np\n",
    "from numpy.random import rand"
   ]
  },
  {
   "cell_type": "code",
   "execution_count": 3,
   "metadata": {},
   "outputs": [
    {
     "data": {
      "image/png": "[encoded data removed]",
      "text/plain": [
       "<Figure size 432x288 with 1 Axes>"
      ]
     },
     "metadata": {
      "needs_background": "light"
     },
     "output_type": "display_data"
    }
   ],
   "source": [
    "## testing out the random.rand function to set some tests for our proposed solution\n",
    "\n",
    "import matplotlib.pyplot as plt\n",
    "%matplotlib inline \n",
    "n = 10000\n",
    "\n",
    "test_set = rand(n)\n",
    "\n",
    "plt.hist(test_set, bins=100)  \n",
    "plt.title(\"Histogram of %i values generated by Uniform Distribution\" %(n))\n",
    "plt.show()"
   ]
  },
  {
   "cell_type": "markdown",
   "metadata": {},
   "source": [
    "My plan: create the normal curve, then implement the trapezium rule...\n"
   ]
  },
  {
   "cell_type": "markdown",
   "metadata": {},
   "source": [
    "The normal distribution is defined as:\n",
    "\n"
   ]
  },
  {
   "cell_type": "code",
   "execution_count": 5,
   "metadata": {},
   "outputs": [],
   "source": [
    "def norm(x_array, m, s):\n",
    "    point_array = 1/np.sqrt(2*3.14*s**2)*np.exp((-(x_array - mu)**2)/2*s**2)\n",
    "    return(point_array)"
   ]
  },
  {
   "cell_type": "code",
   "execution_count": 6,
   "metadata": {},
   "outputs": [
    {
     "data": {
      "image/png": "[encoded data removed]",
      "text/plain": [
       "<Figure size 648x648 with 1 Axes>"
      ]
     },
     "metadata": {
      "needs_background": "light"
     },
     "output_type": "display_data"
    }
   ],
   "source": [
    "sigma = 1\n",
    "mu = 0\n",
    "\n",
    "x = np.linspace(-5,5,200)\n",
    "y = norm(x, mu, sigma)\n",
    "\n",
    "\n",
    "fig = plt.figure(figsize=(9,9))\n",
    "\n",
    "n_axes = fig.add_subplot(211)\n",
    "\n",
    "n_axes.set_autoscaley_on(False)\n",
    "n_axes.set_ylim([0,0.4])\n",
    "\n",
    "n_axes.plot(x, y)\n",
    "plt.title(\"Normal distribution curve with mean %i and s.d. %i\" %(mu, sigma))\n",
    "plt.show()"
   ]
  },
  {
   "cell_type": "markdown",
   "metadata": {},
   "source": [
    "We have an interval e.g. (0,0.25)\n",
    "We can calculate the y values at the beginning and end of the interval, then we use the trapezium rule (1/2 * sum of ends * width) to get the area\n",
    "\n"
   ]
  },
  {
   "cell_type": "code",
   "execution_count": 8,
   "metadata": {
    "scrolled": true
   },
   "outputs": [
    {
     "name": "stdout",
     "output_type": "stream",
     "text": [
      "[0.39904344 0.38676617]\n",
      "0.09822620105583275\n"
     ]
    }
   ],
   "source": [
    "\n",
    "sigma = 1\n",
    "mu = 0\n",
    "\n",
    "\n",
    "x_int = np.array([0,0.25])\n",
    "x_width = x_int.max() - x_int.min()\n",
    "y_vals = norm(x_int, mu, sigma)\n",
    "area = 0.5 * y_vals.sum()*x_width\n",
    "\n",
    "print(y_vals)\n",
    "print(area)"
   ]
  },
  {
   "cell_type": "code",
   "execution_count": 9,
   "metadata": {},
   "outputs": [
    {
     "data": {
      "text/plain": [
       "0.09822620105583275"
      ]
     },
     "execution_count": 9,
     "metadata": {},
     "output_type": "execute_result"
    }
   ],
   "source": [
    "## function to calculate the trapezium area\n",
    "\n",
    "def trap_area(y1, y2, width):\n",
    "    return 0.5*(y1 + y2)* width\n",
    "\n",
    "trap_area(*y_vals, x_width)"
   ]
  },
  {
   "cell_type": "code",
   "execution_count": 10,
   "metadata": {},
   "outputs": [
    {
     "name": "stdout",
     "output_type": "stream",
     "text": [
      "1.00018932606553\n"
     ]
    }
   ],
   "source": [
    "sigma = 1\n",
    "mu = 0\n",
    "\n",
    "## set our full interval to be 4 s.d. from the mean\n",
    "## so with ~(0,1) we'll get an interval of (-4, 4)\n",
    "interval = np.array([mu - sigma*4,mu+sigma*4])\n",
    "## split this into k strips, which will control how fine-grain our slices are (let's say k = 80, intervals of 0.1)\n",
    "k = 80\n",
    "strip_width = (interval[1]-interval[0])/k\n",
    "\n",
    "sub_strips = np.linspace(*interval, k + 1) ## 81 edges gives 80 strips\n",
    "sub_strips_pairs = [np.array([sub_strips[p],sub_strips[p+1]]) for p in range(80)]\n",
    "\n",
    "\n",
    "## also set how many samples we want \n",
    "n = 10000\n",
    "\n",
    "## the area of the strip tells us how many values we want to select, as a proportion of n\n",
    "## create an array of areas\n",
    "\n",
    "areas = np.array([trap_area(*norm(s, mu, sigma),0.1) for s in sub_strips_pairs])\n",
    "\n",
    "print(areas.sum()) ## we can live with a slightly 'overconfident' total probability...\n",
    "\n",
    "## then we can generate these using a uniformly distributed rv within that interval\n",
    "bin_counts = np.round(areas*n)\n",
    "\n"
   ]
  },
  {
   "cell_type": "code",
   "execution_count": 11,
   "metadata": {},
   "outputs": [
    {
     "name": "stdout",
     "output_type": "stream",
     "text": [
      "254 values in the interval (-1.000000,-0.900000)\n"
     ]
    }
   ],
   "source": [
    "## sense check\n",
    "\n",
    "x = bin_counts[30]\n",
    "interval = sub_strips_pairs[30]\n",
    "width = interval[1] - interval[0]\n",
    "\n",
    "print(\"%i values in the interval (%f,%f)\" %(x, *interval))\n",
    "p = rand(int(x))*width + interval[0]"
   ]
  },
  {
   "cell_type": "code",
   "execution_count": 12,
   "metadata": {},
   "outputs": [
    {
     "data": {
      "text/plain": [
       "10004"
      ]
     },
     "execution_count": 12,
     "metadata": {},
     "output_type": "execute_result"
    }
   ],
   "source": [
    "normal_sample = np.array([])\n",
    "\n",
    "for i in range(k):\n",
    "    count = bin_counts[i]\n",
    "    strip = sub_strips_pairs[i]\n",
    "    sample = rand(int(count))*width + strip[0]\n",
    "    normal_sample = np.append(normal_sample, sample)\n",
    "    \n",
    "len(normal_sample) ## ok, so we gained a couple of samples, but nothing to worry about"
   ]
  },
  {
   "cell_type": "code",
   "execution_count": 13,
   "metadata": {},
   "outputs": [
    {
     "data": {
      "image/png": "[encoded data removed]",
      "text/plain": [
       "<Figure size 432x288 with 1 Axes>"
      ]
     },
     "metadata": {
      "needs_background": "light"
     },
     "output_type": "display_data"
    }
   ],
   "source": [
    "plt.hist(normal_sample, bins = 80)\n",
    "plt.show()"
   ]
  },
  {
   "cell_type": "code",
   "execution_count": 17,
   "metadata": {},
   "outputs": [
    {
     "data": {
      "text/plain": [
       "0.35473060475158835"
      ]
     },
     "execution_count": 17,
     "metadata": {},
     "output_type": "execute_result"
    }
   ],
   "source": [
    "## Now that we have a normally distributed sample, we can just make a uniformly random selection from this array\n",
    "\n",
    "def normal_distribution_generator():\n",
    "    x = normal_sample[np.random.randint(len(normal_sample))]\n",
    "    return x\n",
    "\n",
    "normal_distribution_generator()"
   ]
  },
  {
   "cell_type": "markdown",
   "metadata": {},
   "source": [
    "Let's wrap this code up, and put it through its paces."
   ]
  },
  {
   "cell_type": "code",
   "execution_count": 18,
   "metadata": {},
   "outputs": [],
   "source": [
    "#TODO\n",
    "\n",
    "# Wrap Normal dist code into a class, with parameter k (number of bins) \n",
    "\n",
    "# test implementation with increasing accuracy, show that its slow \n",
    "\n",
    "# Start the box_mueller implementation"
   ]
  }
 ],
 "metadata": {
  "kernelspec": {
   "display_name": "Python 3",
   "language": "python",
   "name": "python3"
  },
  "language_info": {
   "codemirror_mode": {
    "name": "ipython",
    "version": 3
   },
   "file_extension": ".py",
   "mimetype": "text/x-python",
   "name": "python",
   "nbconvert_exporter": "python",
   "pygments_lexer": "ipython3",
   "version": "3.7.1"
  }
 },
 "nbformat": 4,
 "nbformat_minor": 2
}
