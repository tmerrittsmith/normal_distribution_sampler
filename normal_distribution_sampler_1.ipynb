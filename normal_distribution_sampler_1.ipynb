{
 "cells": [
  {
   "cell_type": "markdown",
   "metadata": {},
   "source": [
    "# A normal distribution sampler in python"
   ]
  },
  {
   "cell_type": "markdown",
   "metadata": {},
   "source": [
    "Last year, I had the pleasure of attending a tutorial with the great [Petros Dellaportas](http://www.homepages.ucl.ac.uk/~ucakpde/#), a one-day primer in bayesian inference. One of the main sessions was about Markov chain Monte Carlo sampling, the technique whose name inspired one of the all-time greatest blog names (and blogs) ever: ['While my MCMC gently samples'](https://twiecki.io/)... and _also_ a game-changing statistical insight when it comes to sampling from complex statistical distributions. Following the session, I caught up with Petros and asked a dumb but useful question: \n",
    "\n",
    "<p><center>'So, I kind of understand MCMC now... but why does it matter?!'</center></p>\n",
    "\n",
    "Petros being Petros, he was more than equal to my question:\n",
    "\n",
    "<p><center>'MCMC is a tool to sample from complex distributions. Let's start with a simple distribution, the Normal Distribution. After this session, go and write a normal distribution sampler. Then, go and look up the Box-Mueller method, and you'll realise that MCMC matters - effective sampling from distributions is not trivial!'</center></p>\n",
    "\n",
    "So, here's my naive attempt at sampling from the normal distribution. "
   ]
  },
  {
   "cell_type": "code",
   "execution_count": 1,
   "metadata": {},
   "outputs": [],
   "source": [
    "import numpy as np\n",
    "from numpy.random import rand"
   ]
  },
  {
   "cell_type": "code",
   "execution_count": 2,
   "metadata": {},
   "outputs": [
    {
     "data": {
      "image/png": "[encoded data removed]",
      "text/plain": [
       "<Figure size 432x288 with 1 Axes>"
      ]
     },
     "metadata": {
      "needs_background": "light"
     },
     "output_type": "display_data"
    }
   ],
   "source": [
    "\n",
    "import matplotlib.pyplot as plt\n",
    "%matplotlib inline \n",
    "n = 10000\n",
    "\n",
    "test_set = rand(n)\n",
    "\n",
    "plt.hist(test_set, bins=100)  \n",
    "plt.title(\"Histogram of %i values generated by Uniform Distribution\" %(n))\n",
    "plt.show()"
   ]
  },
  {
   "cell_type": "markdown",
   "metadata": {},
   "source": [
    "The probability density function of the normal distribution is defined as:\n",
    "\n",
    "$$ f(x|\\mu, \\sigma) = \\frac{1}{\\sqrt{2\\pi \\sigma ^2}}e ^ {- \\frac{(x-\\mu)^2}{2\\sigma^2}}  $$"
   ]
  },
  {
   "cell_type": "code",
   "execution_count": 3,
   "metadata": {},
   "outputs": [],
   "source": [
    "from math import pi\n",
    "\n",
    "def norm(x_array, m, s):\n",
    "    point_array = 1/np.sqrt(2* pi * s ** 2) * np.exp((-(x_array - mu)**2)/2*s**2)\n",
    "    return(point_array)"
   ]
  },
  {
   "cell_type": "code",
   "execution_count": 44,
   "metadata": {},
   "outputs": [
    {
     "data": {
      "image/png": "[encoded data removed]",
      "text/plain": [
       "<Figure size 648x648 with 1 Axes>"
      ]
     },
     "metadata": {
      "needs_background": "light"
     },
     "output_type": "display_data"
    }
   ],
   "source": [
    "sigma = 1\n",
    "mu = 0\n",
    "\n",
    "x = np.linspace(-5,5,200)\n",
    "y = norm(x, mu, sigma)\n",
    "\n",
    "\n",
    "fig = plt.figure(figsize=(9,9))\n",
    "\n",
    "n_axes = fig.add_subplot(211)\n",
    "\n",
    "n_axes.set_autoscaley_on(False)\n",
    "n_axes.set_ylim([0,0.4])\n",
    "\n",
    "n_axes.plot(x, y)\n",
    "plt.title(\"Normal distribution curve with mean %i and s.d. %i\" %(mu, sigma))\n",
    "plt.show()"
   ]
  },
  {
   "cell_type": "markdown",
   "metadata": {},
   "source": [
    "Now, if we want to use the uniform sampler to generate a sample distribution X, such that $ X \\sim N(0, 1)$, we need to know how to reshape our uniform distribution. To do this, we'll split the normal curve into strips, calculate the area under the curve for each strip, and use this to tell us how many uniformly distributed samples we need for each strip. \n",
    "\n",
    "Given an interval, we can calculate the y values at the beginning and end of the interval, then we use the trapezium rule to get the area of this slice:\n",
    "\n",
    "$$ \\frac{1}{2} * (a + b) * width $$  \n",
    "\n"
   ]
  },
  {
   "cell_type": "code",
   "execution_count": 45,
   "metadata": {
    "scrolled": true
   },
   "outputs": [
    {
     "name": "stdout",
     "output_type": "stream",
     "text": [
      "[0.39894228 0.38666812]\n",
      "0.09820129965053524\n"
     ]
    }
   ],
   "source": [
    "sigma = 1\n",
    "mu = 0\n",
    "\n",
    "\n",
    "x_int = np.array([0,0.25])\n",
    "x_width = x_int.max() - x_int.min()\n",
    "y_vals = norm(x_int, mu, sigma)\n",
    "area = 0.5 * y_vals.sum()*x_width\n",
    "\n",
    "print(y_vals)\n",
    "print(area)"
   ]
  },
  {
   "cell_type": "code",
   "execution_count": 46,
   "metadata": {},
   "outputs": [
    {
     "data": {
      "text/plain": [
       "0.09820129965053524"
      ]
     },
     "execution_count": 46,
     "metadata": {},
     "output_type": "execute_result"
    }
   ],
   "source": [
    "## function to calculate the trapezium area\n",
    "\n",
    "def trap_area(y1, y2, width):\n",
    "    return 0.5*(y1 + y2)* width\n",
    "\n",
    "trap_area(*y_vals, x_width)"
   ]
  },
  {
   "cell_type": "code",
   "execution_count": 47,
   "metadata": {},
   "outputs": [
    {
     "name": "stdout",
     "output_type": "stream",
     "text": [
      "0.99993608729814\n"
     ]
    }
   ],
   "source": [
    "sigma = 1\n",
    "mu = 0\n",
    "n_sigma = 4\n",
    "\n",
    "## set our full interval to be 4 s.d. from the mean\n",
    "## so with X~(0,1) we'll get an interval of (-4, 4)\n",
    "\n",
    "interval = np.array([mu - sigma * n_sigma,mu + sigma * n_sigma])\n",
    "\n",
    "## split this into k strips, which will control how fine-grain our slices are (let's say k = 80, intervals of 0.1)\n",
    "k = 100\n",
    "\n",
    "strip_width = (interval[1]-interval[0])/k\n",
    "sub_strips = np.linspace(*interval, k + 1) ## 81 edges gives 80 strips\n",
    "sub_strips_pairs = [np.array([sub_strips[p],sub_strips[p+1]]) for p in range(k)]\n",
    "\n",
    "\n",
    "## also set how many samples we want \n",
    "n = 10000\n",
    "\n",
    "## the area of the strip tells us how many values we want to select, as a proportion of n\n",
    "## create an array of areas\n",
    "\n",
    "areas = np.array([trap_area(*norm(s, mu, sigma), strip_width) for s in sub_strips_pairs])\n",
    "\n",
    "print(areas.sum()) ## Check that my probabilities summed to 1. They don't quite, because the trapezium rule is an estimate.\n",
    "                   ## We'll need a way to make sure this discrepancy doesn't affect the number of samples we want to produce at the end"
   ]
  },
  {
   "cell_type": "code",
   "execution_count": 48,
   "metadata": {},
   "outputs": [
    {
     "name": "stdout",
     "output_type": "stream",
     "text": [
      "0 values in the interval (-3.840000,-3.760000)\n"
     ]
    },
    {
     "data": {
      "text/plain": [
       "(0,)"
      ]
     },
     "execution_count": 48,
     "metadata": {},
     "output_type": "execute_result"
    }
   ],
   "source": [
    "## sense check\n",
    "\n",
    "\n",
    "##  we can generate these using a uniformly distributed rv within that interval\n",
    "bin_counts = np.round(areas * n)\n",
    "\n",
    "\n",
    "x = bin_counts[2]\n",
    "interval = sub_strips_pairs[2]\n",
    "\n",
    "\n",
    "print(\"%i values in the interval (%f,%f)\" %(x, *interval))\n",
    "p = rand(int(x)) * strip_width + interval[0]\n",
    "p.shape"
   ]
  },
  {
   "cell_type": "markdown",
   "metadata": {},
   "source": [
    "Implementing largest remainder method to distribute remainder correctly"
   ]
  },
  {
   "cell_type": "code",
   "execution_count": 49,
   "metadata": {
    "scrolled": true
   },
   "outputs": [],
   "source": [
    "leftover = int(n - (np.floor(areas * n) ).sum())\n",
    "\n",
    "## sort by decimal parts, and distribute leftovers \n",
    "# index = np.arange(len(bin_counts))\n",
    "rounded_down = areas * n - np.floor(areas * n)\n"
   ]
  },
  {
   "cell_type": "code",
   "execution_count": 52,
   "metadata": {},
   "outputs": [
    {
     "data": {
      "text/plain": [
       "54"
      ]
     },
     "execution_count": 52,
     "metadata": {},
     "output_type": "execute_result"
    }
   ],
   "source": [
    "leftover"
   ]
  },
  {
   "cell_type": "code",
   "execution_count": 53,
   "metadata": {},
   "outputs": [
    {
     "data": {
      "text/plain": [
       "100"
      ]
     },
     "execution_count": 53,
     "metadata": {},
     "output_type": "execute_result"
    }
   ],
   "source": [
    "len(areas)"
   ]
  },
  {
   "cell_type": "code",
   "execution_count": 54,
   "metadata": {},
   "outputs": [],
   "source": [
    "adjusted_bin_counts = np.floor(areas * n)"
   ]
  },
  {
   "cell_type": "code",
   "execution_count": 55,
   "metadata": {},
   "outputs": [
    {
     "data": {
      "text/plain": [
       "0.99993608729814"
      ]
     },
     "execution_count": 55,
     "metadata": {},
     "output_type": "execute_result"
    }
   ],
   "source": [
    "areas.sum()"
   ]
  },
  {
   "cell_type": "code",
   "execution_count": 56,
   "metadata": {},
   "outputs": [
    {
     "data": {
      "text/plain": [
       "array([0.12701709, 0.17371638, 0.23607186, 0.31876641, 0.4276867 ,\n",
       "       0.57016926, 0.75527783, 0.99411024, 0.30013138, 0.68952575,\n",
       "       0.1815606 , 0.79894677, 0.56818114, 0.51985024, 0.68887119,\n",
       "       0.11464215, 0.84107206, 0.91645707, 0.39317079, 0.32713638,\n",
       "       0.77705194, 0.80334608, 0.46684872, 0.82717297, 0.94081711,\n",
       "       0.85901118, 0.62534961, 0.27326956, 0.82345226, 0.2812416 ,\n",
       "       0.63418859, 0.84984081, 0.87390224, 0.62888827, 0.01339411,\n",
       "       0.9020807 , 0.14646061, 0.57653834, 0.00332516, 0.22220982,\n",
       "       0.01712529, 0.16540982, 0.44322109, 0.63132685, 0.52106752,\n",
       "       0.92026658, 0.65885651, 0.59399068, 0.61442683, 0.64399437,\n",
       "       0.64399437, 0.61442683, 0.59399068, 0.65885651, 0.92026658,\n",
       "       0.52106752, 0.63132685, 0.44322109, 0.16540982, 0.01712529,\n",
       "       0.22220982, 0.00332516, 0.57653834, 0.14646061, 0.9020807 ,\n",
       "       0.01339411, 0.62888827, 0.87390224, 0.84984081, 0.63418859,\n",
       "       0.2812416 , 0.82345226, 0.27326956, 0.62534961, 0.85901118,\n",
       "       0.94081711, 0.82717297, 0.46684872, 0.80334608, 0.77705194,\n",
       "       0.32713638, 0.39317079, 0.91645707, 0.84107206, 0.11464215,\n",
       "       0.68887119, 0.51985024, 0.56818114, 0.79894677, 0.1815606 ,\n",
       "       0.68952575, 0.30013138, 0.99411024, 0.75527783, 0.57016926,\n",
       "       0.4276867 , 0.31876641, 0.23607186, 0.17371638, 0.12701709])"
      ]
     },
     "execution_count": 56,
     "metadata": {},
     "output_type": "execute_result"
    }
   ],
   "source": [
    "rounded_down"
   ]
  },
  {
   "cell_type": "code",
   "execution_count": 57,
   "metadata": {},
   "outputs": [],
   "source": [
    "#  = np.argpartition(a, -4)[-4:\n",
    "\n",
    "largest_remainders = np.argpartition(rounded_down, -leftover)[-leftover:]\n"
   ]
  },
  {
   "cell_type": "code",
   "execution_count": 58,
   "metadata": {},
   "outputs": [
    {
     "data": {
      "text/plain": [
       "array([38,  1,  2,  3,  4,  5,  6,  7,  8,  9, 10, 11, 12, 13, 14, 15, 16,\n",
       "       17, 18, 19, 20, 21, 22, 23, 24, 25, 26, 27, 28, 29, 30, 31, 32, 33,\n",
       "       34, 35, 36, 37,  0, 39, 40, 41, 42, 43, 44, 45, 46, 47, 48, 49, 50,\n",
       "       51, 52, 53, 54, 55, 56, 57, 58, 59, 60, 61, 62, 63, 64, 65, 66, 67,\n",
       "       68, 69, 70, 71, 72, 73, 74, 75, 76, 77, 78, 79, 80, 81, 82, 83, 84,\n",
       "       85, 86, 87, 88, 89, 90, 91, 92, 93, 94, 95, 96, 97, 98, 99])"
      ]
     },
     "execution_count": 58,
     "metadata": {},
     "output_type": "execute_result"
    }
   ],
   "source": [
    "np.argpartition(rounded_down, 0)"
   ]
  },
  {
   "cell_type": "code",
   "execution_count": 59,
   "metadata": {},
   "outputs": [
    {
     "data": {
      "text/plain": [
       "array([94,  5, 47, 62, 37, 51, 52, 48, 73, 69, 56, 26, 43, 30, 33, 66, 49,\n",
       "       11, 64, 53, 50, 67, 68, 46, 45, 71,  6,  7, 74, 75, 76, 35, 78, 79,\n",
       "       32, 31, 82, 83, 28, 85, 25, 24, 88, 23, 90, 21, 92, 93, 20, 17, 16,\n",
       "        9, 14, 54])"
      ]
     },
     "execution_count": 59,
     "metadata": {},
     "output_type": "execute_result"
    }
   ],
   "source": [
    "largest_remainders"
   ]
  },
  {
   "cell_type": "code",
   "execution_count": 60,
   "metadata": {},
   "outputs": [],
   "source": [
    "adjusted_bin_counts[largest_remainders] += 1"
   ]
  },
  {
   "cell_type": "code",
   "execution_count": 61,
   "metadata": {},
   "outputs": [
    {
     "data": {
      "text/plain": [
       "6.0"
      ]
     },
     "execution_count": 61,
     "metadata": {},
     "output_type": "execute_result"
    }
   ],
   "source": [
    "sum(bin_counts - adjusted_bin_counts)"
   ]
  },
  {
   "cell_type": "code",
   "execution_count": 62,
   "metadata": {},
   "outputs": [
    {
     "data": {
      "text/plain": [
       "10000"
      ]
     },
     "execution_count": 62,
     "metadata": {},
     "output_type": "execute_result"
    }
   ],
   "source": [
    "normal_sample = np.array([])\n",
    "\n",
    "for i in range(k):\n",
    "    count = adjusted_bin_counts[i]\n",
    "    strip = sub_strips_pairs[i]\n",
    "    sample = rand(int(count)) * strip_width + strip[0]\n",
    "    normal_sample = np.append(normal_sample, sample)\n",
    "    \n",
    "len(normal_sample) ## sanity check"
   ]
  },
  {
   "cell_type": "code",
   "execution_count": 63,
   "metadata": {},
   "outputs": [
    {
     "data": {
      "text/plain": [
       "10000"
      ]
     },
     "execution_count": 63,
     "metadata": {},
     "output_type": "execute_result"
    }
   ],
   "source": [
    "normal_sample2 = np.array([])\n",
    "\n",
    "for i in range(k):\n",
    "    count = adjusted_bin_counts[i]\n",
    "    strip = sub_strips_pairs[i]\n",
    "    sample = rand(int(count)) * strip_width + strip[0]\n",
    "    normal_sample2 = np.append(normal_sample2, sample)\n",
    "    \n",
    "len(normal_sample2) ## sanity check"
   ]
  },
  {
   "cell_type": "code",
   "execution_count": 64,
   "metadata": {},
   "outputs": [
    {
     "data": {
      "text/plain": [
       "array([False, False, False, ..., False, False, False])"
      ]
     },
     "execution_count": 64,
     "metadata": {},
     "output_type": "execute_result"
    }
   ],
   "source": [
    "normal_sample == normal_sample2"
   ]
  },
  {
   "cell_type": "code",
   "execution_count": 77,
   "metadata": {},
   "outputs": [
    {
     "data": {
      "text/plain": [
       "0.47114194036187274"
      ]
     },
     "execution_count": 77,
     "metadata": {},
     "output_type": "execute_result"
    }
   ],
   "source": [
    "idx = np.random.randint(len(normal_sample))\n",
    "normal_sample[idx]"
   ]
  },
  {
   "cell_type": "code",
   "execution_count": 78,
   "metadata": {},
   "outputs": [
    {
     "data": {
      "image/png": "[encoded data removed]",
      "text/plain": [
       "<Figure size 432x288 with 1 Axes>"
      ]
     },
     "metadata": {
      "needs_background": "light"
     },
     "output_type": "display_data"
    }
   ],
   "source": [
    "plt.hist(normal_sample, bins=100)\n",
    "plt.show()"
   ]
  },
  {
   "cell_type": "code",
   "execution_count": 79,
   "metadata": {},
   "outputs": [],
   "source": [
    "g = (trap_area(*norm(s, mu, sigma),0.1) for s in sub_strips_pairs)"
   ]
  },
  {
   "cell_type": "code",
   "execution_count": 80,
   "metadata": {},
   "outputs": [],
   "source": [
    "class normal_distribution():\n",
    "    \n",
    "    def __init__(self, mu, sigma, num_sigma=4):\n",
    "        self.mu = mu\n",
    "        self.sigma = sigma\n",
    "        self.tails = np.array([mu - sigma * num_sigma, mu + sigma * num_sigma])\n",
    "        self.normal_sample = np.array([])\n",
    "    \n",
    "    def _generate_sample(self, bins, num_samples):\n",
    "        \n",
    "        strip_width = (self.tails[1] - self.tails[0]) / bins            \n",
    "        sub_strips = np.linspace(*self.tails, bins + 1)\n",
    "        sub_strips_pairs = [np.array([sub_strips[p], sub_strips[p + 1]]) for p in range(bins)]\n",
    "    \n",
    "        ## the area of the strip tells us how many values we want to select, as a proportion of the total number of samples\n",
    "        ## create an array of areas\n",
    "\n",
    "        area_array = np.array([self._trapezium_area(*self._normal_pdf(s, self.mu, self.sigma), strip_width) \\\n",
    "                               for s in sub_strips_pairs])\n",
    "\n",
    "        bin_counts = np.round(area_array * num_samples)\n",
    "        if bin_counts.sum() > num_samples:   \n",
    "            print(bin_counts.sum())\n",
    "\n",
    "        for i in range(bins):\n",
    "            count = bin_counts[i]\n",
    "            strip = sub_strips_pairs[i]\n",
    "            strip_sample = rand(int(count)) * strip_width + strip[0]\n",
    "            self.normal_sample = np.append(self.normal_sample, strip_sample)\n",
    "            \n",
    "            \n",
    "    def _trapezium_area(self, y1, y2, width):\n",
    "        return 0.5 * (y1 + y2) * width\n",
    "          \n",
    "    def _normal_pdf(self, x_array, mu, sigma):\n",
    "        point_array = 1 / np.sqrt(2 * pi * sigma ** 2) * np.exp((-(x_array - mu) ** 2) / 2 * sigma ** 2)\n",
    "        return(point_array)\n",
    "        \n",
    "    \n",
    "    def sample(self,n, bins=80, num_samples=10000):\n",
    "        \n",
    "        self._generate_sample(bins, num_samples)\n",
    "    \n",
    "        if n > len(self.normal_sample):\n",
    "            raise IndexError\n",
    "        \n",
    "        idx = np.random.randint(0,len(self.normal_sample), n)\n",
    "        \n",
    "        return self.normal_sample[idx]\n",
    "        "
   ]
  },
  {
   "cell_type": "code",
   "execution_count": 88,
   "metadata": {},
   "outputs": [
    {
     "data": {
      "image/png": "[encoded data removed]",
      "text/plain": [
       "<Figure size 432x288 with 1 Axes>"
      ]
     },
     "metadata": {
      "needs_background": "light"
     },
     "output_type": "display_data"
    }
   ],
   "source": [
    "my_sampler = normal_distribution(0,1)\n",
    "plt.hist(my_sampler.sample(500), bins=100)\n",
    "plt.show()"
   ]
  },
  {
   "cell_type": "code",
   "execution_count": 89,
   "metadata": {},
   "outputs": [],
   "source": [
    "from time import time\n",
    "\n",
    "t = []\n",
    "\n",
    "for n in range(50):\n",
    "    t0 = time()\n",
    "    sampler = normal_distribution(0,1)\n",
    "    try:\n",
    "    \n",
    "        sampler.sample(1, bins=100, num_samples = n * 100000)\n",
    "    except:\n",
    "        pass\n",
    "    t1 = time()\n",
    "    \n",
    "    t.append(t1 - t0)"
   ]
  },
  {
   "cell_type": "code",
   "execution_count": 90,
   "metadata": {},
   "outputs": [
    {
     "data": {
      "text/plain": [
       "[<matplotlib.lines.Line2D at 0x7fd142ce2f98>]"
      ]
     },
     "execution_count": 90,
     "metadata": {},
     "output_type": "execute_result"
    },
    {
     "data": {
      "image/png": "[encoded data removed]",
      "text/plain": [
       "<Figure size 432x288 with 1 Axes>"
      ]
     },
     "metadata": {
      "needs_background": "light"
     },
     "output_type": "display_data"
    }
   ],
   "source": [
    "plt.plot(t)"
   ]
  },
  {
   "cell_type": "code",
   "execution_count": 53,
   "metadata": {},
   "outputs": [
    {
     "data": {
      "text/plain": [
       "(4899686,)"
      ]
     },
     "execution_count": 53,
     "metadata": {},
     "output_type": "execute_result"
    }
   ],
   "source": [
    "sampler.normal_sample.shape"
   ]
  },
  {
   "cell_type": "code",
   "execution_count": 56,
   "metadata": {},
   "outputs": [
    {
     "data": {
      "image/png": "[encoded data removed]",
      "text/plain": [
       "<Figure size 432x288 with 1 Axes>"
      ]
     },
     "metadata": {
      "needs_background": "light"
     },
     "output_type": "display_data"
    }
   ],
   "source": [
    "plt.hist(sampler.normal_sample, bins=100)\n",
    "plt.show()"
   ]
  },
  {
   "cell_type": "code",
   "execution_count": 63,
   "metadata": {},
   "outputs": [
    {
     "name": "stdout",
     "output_type": "stream",
     "text": [
      "CPU times: user 3 µs, sys: 1e+03 ns, total: 4 µs\n",
      "Wall time: 8.82 µs\n"
     ]
    },
    {
     "data": {
      "image/png": "[encoded data removed]",
      "text/plain": [
       "<Figure size 432x288 with 1 Axes>"
      ]
     },
     "metadata": {
      "needs_background": "light"
     },
     "output_type": "display_data"
    }
   ],
   "source": [
    "%time\n",
    "plt.hist(np.random.normal(size=5000000), bins=100)\n",
    "plt.show()"
   ]
  },
  {
   "cell_type": "code",
   "execution_count": 92,
   "metadata": {},
   "outputs": [
    {
     "name": "stdout",
     "output_type": "stream",
     "text": [
      "NormaltestResult(statistic=1.154570417443026, pvalue=0.5614204388873076)\n",
      "NormaltestResult(statistic=2.8987645844629215, pvalue=0.2347152287438958)\n"
     ]
    }
   ],
   "source": [
    "from scipy.stats import normaltest\n",
    "\n",
    "print(normaltest(np.random.normal(size=5000000)))\n",
    "\n",
    "print(normaltest(sampler.sample(n=500000)))"
   ]
  },
  {
   "cell_type": "code",
   "execution_count": 93,
   "metadata": {},
   "outputs": [
    {
     "name": "stdout",
     "output_type": "stream",
     "text": [
      "NormaltestResult(statistic=0.29647734185217, pvalue=0.8622253022708851) \n",
      " NormaltestResult(statistic=6.181178232820435, pvalue=0.04547515635094647)\n"
     ]
    },
    {
     "data": {
      "image/png": "[encoded data removed]",
      "text/plain": [
       "<Figure size 432x288 with 1 Axes>"
      ]
     },
     "metadata": {
      "needs_background": "light"
     },
     "output_type": "display_data"
    }
   ],
   "source": [
    "true = np.random.normal(size=500000)\n",
    "test = sampler.sample(n=500000)\n",
    "\n",
    "plt.hist(true, bins=100,label='true')\n",
    "plt.hist(test, alpha=0.7, bins=100, label='test')\n",
    "plt.legend(prop={'size': 10})\n",
    "\n",
    "print(normaltest(true), '\\n', normaltest(test))\n",
    "plt.show()"
   ]
  },
  {
   "cell_type": "code",
   "execution_count": 96,
   "metadata": {},
   "outputs": [
    {
     "name": "stdout",
     "output_type": "stream",
     "text": [
      "sample_N(0,1) vs. N(0, 1): KS=0.2907 with p-value = 0.0000.\n"
     ]
    }
   ],
   "source": [
    "from scipy import stats\n",
    "\n",
    "test_stat, pvalue = stats.kstest(test, 'norm', args=(0, 4), N=5000000)\n",
    "print(\"sample_N(0,1) vs. N(0, 1): KS=%.4f with p-value = %.4f.\" % (test_stat, pvalue))\n"
   ]
  },
  {
   "cell_type": "code",
   "execution_count": 127,
   "metadata": {},
   "outputs": [],
   "source": [
    "from math import sin, cos, pi, log, sqrt"
   ]
  },
  {
   "cell_type": "markdown",
   "metadata": {},
   "source": [
    "## The Box-Mueller implementation"
   ]
  },
  {
   "cell_type": "code",
   "execution_count": 158,
   "metadata": {},
   "outputs": [
    {
     "name": "stdout",
     "output_type": "stream",
     "text": [
      "2.57 s ± 78.4 ms per loop (mean ± std. dev. of 7 runs, 1 loop each)\n"
     ]
    }
   ],
   "source": [
    "%%timeit\n",
    "x1s = []\n",
    "x2s = []\n",
    "n = 1000000\n",
    "\n",
    "for i in range(n):\n",
    "\n",
    "    y1 = np.random.random()\n",
    "    y2 = np.random.random()\n",
    "\n",
    "    x1 = sqrt(-2 * log(y1)) * cos(2 * pi * y2)\n",
    "    x2 = sqrt(-2 * log(y2)) * sin(2 * pi * y1)  \n",
    "    \n",
    "    x1s.append(x1)\n",
    "    x2s.append(x2)"
   ]
  },
  {
   "cell_type": "code",
   "execution_count": 135,
   "metadata": {},
   "outputs": [
    {
     "data": {
      "image/png": "[encoded data removed]",
      "text/plain": [
       "<Figure size 432x288 with 1 Axes>"
      ]
     },
     "metadata": {
      "needs_background": "light"
     },
     "output_type": "display_data"
    }
   ],
   "source": [
    "plt.hist(x1s, bins=100)\n",
    "plt.show()"
   ]
  },
  {
   "cell_type": "markdown",
   "metadata": {},
   "source": [
    "Wait... so that's it?! What is going on here?"
   ]
  },
  {
   "cell_type": "code",
   "execution_count": 159,
   "metadata": {},
   "outputs": [
    {
     "name": "stdout",
     "output_type": "stream",
     "text": [
      "29.3 ms ± 232 µs per loop (mean ± std. dev. of 7 runs, 10 loops each)\n"
     ]
    }
   ],
   "source": [
    "%%timeit\n",
    "def reject_r2():\n",
    "    r2 = 1\n",
    "    while r2 >= 1:\n",
    "        y1 = np.random.random() * 2 - 1\n",
    "        y2 = np.random.random() * 2 - 1\n",
    "        r2 = y1 ** 2 + y2 ** 2\n",
    "    return r2, y1, y2\n",
    "\n",
    "def transform_r2(r2):\n",
    "    return sqrt( -2 * log(r2) / r2)   \n",
    "\n",
    "x1s = []\n",
    "x2s = []\n",
    "\n",
    "for i in range(n):    \n",
    "    r2, y1, y2 = reject_r2()\n",
    "    transformed_r2 = transform_r2(r2)\n",
    "\n",
    "    x1 = transformed_r2  * y1\n",
    "    x2 = transformed_r2 * y2\n",
    "    \n",
    "    x1s.append(x1)\n",
    "    x2s.append(x2)"
   ]
  },
  {
   "cell_type": "code",
   "execution_count": 152,
   "metadata": {},
   "outputs": [
    {
     "data": {
      "image/png": "[encoded data removed]",
      "text/plain": [
       "<Figure size 432x288 with 1 Axes>"
      ]
     },
     "metadata": {
      "needs_background": "light"
     },
     "output_type": "display_data"
    }
   ],
   "source": [
    "plt.hist(x1s, bins=100)\n",
    "plt.show()"
   ]
  },
  {
   "cell_type": "code",
   "execution_count": 149,
   "metadata": {},
   "outputs": [
    {
     "data": {
      "text/plain": [
       "(0.4312628669340129, -0.636776542033807, -0.16055685114463403)"
      ]
     },
     "execution_count": 149,
     "metadata": {},
     "output_type": "execute_result"
    }
   ],
   "source": [
    "reject_r2()"
   ]
  }
 ],
 "metadata": {
  "kernelspec": {
   "display_name": "Python 3",
   "language": "python",
   "name": "python3"
  },
  "language_info": {
   "codemirror_mode": {
    "name": "ipython",
    "version": 3
   },
   "file_extension": ".py",
   "mimetype": "text/x-python",
   "name": "python",
   "nbconvert_exporter": "python",
   "pygments_lexer": "ipython3",
   "version": "3.7.1"
  }
 },
 "nbformat": 4,
 "nbformat_minor": 2
}
