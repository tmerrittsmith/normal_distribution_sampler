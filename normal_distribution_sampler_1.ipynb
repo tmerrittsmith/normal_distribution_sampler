{
 "cells": [
  {
   "cell_type": "markdown",
   "metadata": {},
   "source": [
    "# A normal distribution sampler in python"
   ]
  },
  {
   "cell_type": "markdown",
   "metadata": {},
   "source": [
    "Last year, I had the pleasure of attending a tutorial with the great [Petros Dellaportas](http://www.homepages.ucl.ac.uk/~ucakpde/#), a one-day primer in bayesian inference. One of the main sessions was about Markov chain Monte Carlo sampling, the technique whose name inspired one of the all-time greatest blog names (and blogs) ever: ['While my MCMC gently samples'](https://twiecki.io/)... and _also_ a game-changing statistical insight when it comes to sampling from complex statistical distributions. Following the session, I caught up with Petros and asked a pretty useful question, but pretty revealing question: \n",
    "\n",
    "<p><center>'So, I kind of understand MCMC now... but why does it matter?!'</center></p>\n",
    "\n",
    "Petros being Petros, he was more than equal to my question:\n",
    "\n",
    "<p><center>'MCMC is a tool to sample from complex distributions. Let's start with a simple distribution, the Normal Distribution. After this session, go and write a normal distribution sampler. Then, go and look up the Box-Mueller method, and you'll realise that MCMC matters - effective sampling from distributions is not trivial!</center></p>\n",
    "\n",
    "So, here's my naive attempt. Further down, we'll see how limiting it is, and how we can do better. "
   ]
  },
  {
   "cell_type": "code",
   "execution_count": 1,
   "metadata": {},
   "outputs": [],
   "source": [
    "import numpy as np\n",
    "from numpy.random import rand"
   ]
  },
  {
   "cell_type": "code",
   "execution_count": 2,
   "metadata": {},
   "outputs": [
    {
     "data": {
      "image/png": "[encoded data removed]",
      "text/plain": [
       "<Figure size 432x288 with 1 Axes>"
      ]
     },
     "metadata": {
      "needs_background": "light"
     },
     "output_type": "display_data"
    }
   ],
   "source": [
    "## testing out the random.rand function to set some tests for our proposed solution\n",
    "\n",
    "import matplotlib.pyplot as plt\n",
    "%matplotlib inline \n",
    "n = 10000\n",
    "\n",
    "test_set = rand(n)\n",
    "\n",
    "plt.hist(test_set, bins=100)  \n",
    "plt.title(\"Histogram of %i values generated by Uniform Distribution\" %(n))\n",
    "plt.show()"
   ]
  },
  {
   "cell_type": "markdown",
   "metadata": {},
   "source": [
    "The probability density function of the normal distribution is defined as:\n",
    "\n",
    "$$ f(x|\\mu, \\sigma) = \\frac{1}{\\sqrt{2\\pi \\sigma ^2}}e ^ {- \\frac{(x-\\mu)^2}{2\\sigma^2}}  $$"
   ]
  },
  {
   "cell_type": "code",
   "execution_count": 4,
   "metadata": {},
   "outputs": [],
   "source": [
    "from math import pi\n",
    "\n",
    "def norm(x_array, m, s):\n",
    "    point_array = 1/np.sqrt(2* pi * s ** 2) * np.exp((-(x_array - mu)**2)/2*s**2)\n",
    "    return(point_array)"
   ]
  },
  {
   "cell_type": "code",
   "execution_count": 5,
   "metadata": {},
   "outputs": [
    {
     "data": {
      "image/png": "[encoded data removed]",
      "text/plain": [
       "<Figure size 648x648 with 1 Axes>"
      ]
     },
     "metadata": {
      "needs_background": "light"
     },
     "output_type": "display_data"
    }
   ],
   "source": [
    "sigma = 1\n",
    "mu = 0\n",
    "\n",
    "x = np.linspace(-5,5,200)\n",
    "y = norm(x, mu, sigma)\n",
    "\n",
    "\n",
    "fig = plt.figure(figsize=(9,9))\n",
    "\n",
    "n_axes = fig.add_subplot(211)\n",
    "\n",
    "n_axes.set_autoscaley_on(False)\n",
    "n_axes.set_ylim([0,0.4])\n",
    "\n",
    "n_axes.plot(x, y)\n",
    "plt.title(\"Normal distribution curve with mean %i and s.d. %i\" %(mu, sigma))\n",
    "plt.show()"
   ]
  },
  {
   "cell_type": "markdown",
   "metadata": {},
   "source": [
    "Now, if we want to sample from this probability density function so that $$ X \\sim N(0, 1) $$, we need to calculate the area under the curve. Given an interval, we can calculate the y values at the beginning and end of the interval, then we use the trapezium rule $$ \\frac{1}{2} * (a + b) * width $$ to get the area of this slice. Given the area of each section and the total number of samples we want, we can calculate how many uniformly distributed samples we want to take from each interval, and thus give us a normal distribution from which to sample.\n",
    "\n"
   ]
  },
  {
   "cell_type": "code",
   "execution_count": 7,
   "metadata": {
    "scrolled": true
   },
   "outputs": [
    {
     "name": "stdout",
     "output_type": "stream",
     "text": [
      "[0.39894228 0.38666812]\n",
      "0.09820129965053524\n"
     ]
    }
   ],
   "source": [
    "sigma = 1\n",
    "mu = 0\n",
    "\n",
    "\n",
    "x_int = np.array([0,0.25])\n",
    "x_width = x_int.max() - x_int.min()\n",
    "y_vals = norm(x_int, mu, sigma)\n",
    "area = 0.5 * y_vals.sum()*x_width\n",
    "\n",
    "print(y_vals)\n",
    "print(area)"
   ]
  },
  {
   "cell_type": "code",
   "execution_count": 8,
   "metadata": {},
   "outputs": [
    {
     "data": {
      "text/plain": [
       "0.09820129965053524"
      ]
     },
     "execution_count": 8,
     "metadata": {},
     "output_type": "execute_result"
    }
   ],
   "source": [
    "## function to calculate the trapezium area\n",
    "\n",
    "def trap_area(y1, y2, width):\n",
    "    return 0.5*(y1 + y2)* width\n",
    "\n",
    "trap_area(*y_vals, x_width)"
   ]
  },
  {
   "cell_type": "code",
   "execution_count": 18,
   "metadata": {},
   "outputs": [
    {
     "name": "stdout",
     "output_type": "stream",
     "text": [
      "0.9999357672440047\n"
     ]
    }
   ],
   "source": [
    "sigma = 1\n",
    "mu = 0\n",
    "\n",
    "## set our full interval to be 4 s.d. from the mean\n",
    "## so with X~(0,1) we'll get an interval of (-4, 4)\n",
    "\n",
    "interval = np.array([mu - sigma*4,mu+sigma*4])\n",
    "\n",
    "## split this into k strips, which will control how fine-grain our slices are (let's say k = 80, intervals of 0.1)\n",
    "k = 80\n",
    "strip_width = (interval[1]-interval[0])/k\n",
    "\n",
    "sub_strips = np.linspace(*interval, k + 1) ## 81 edges gives 80 strips\n",
    "sub_strips_pairs = [np.array([sub_strips[p],sub_strips[p+1]]) for p in range(80)]\n",
    "\n",
    "\n",
    "## also set how many samples we want \n",
    "n = 10000\n",
    "\n",
    "## the area of the strip tells us how many values we want to select, as a proportion of n\n",
    "## create an array of areas\n",
    "\n",
    "areas = np.array([trap_area(*norm(s, mu, sigma),0.1) for s in sub_strips_pairs])\n",
    "\n",
    "print(areas.sum()) ## we can live with a probability that is roughly equal to 1\n",
    "\n"
   ]
  },
  {
   "cell_type": "code",
   "execution_count": 19,
   "metadata": {},
   "outputs": [
    {
     "name": "stdout",
     "output_type": "stream",
     "text": [
      "254 values in the interval (-1.000000,-0.900000)\n"
     ]
    }
   ],
   "source": [
    "## sense check\n",
    "\n",
    "\n",
    "##  we can generate these using a uniformly distributed rv within that interval\n",
    "bin_counts = np.round(areas * n)\n",
    "\n",
    "\n",
    "x = bin_counts[30]\n",
    "interval = sub_strips_pairs[30]\n",
    "width = interval[1] - interval[0]\n",
    "\n",
    "print(\"%i values in the interval (%f,%f)\" %(x, *interval))\n",
    "p = rand(int(x))*width + interval[0]"
   ]
  },
  {
   "cell_type": "code",
   "execution_count": 54,
   "metadata": {},
   "outputs": [
    {
     "data": {
      "text/plain": [
       "array([  0.,   0.,   0.,   1.,   1.,   1.,   1.,   2.,   3.,   4.,   5.,\n",
       "         7.,   9.,  12.,  16.,  20.,  25.,  32.,  40.,  49.,  60.,  72.,\n",
       "        86., 102., 120., 140., 161., 183., 206., 230., 254., 278., 301.,\n",
       "       323., 343., 360., 375., 386., 394., 398., 398., 394., 386., 375.,\n",
       "       360., 343., 323., 301., 278., 254., 230., 206., 183., 161., 140.,\n",
       "       120., 102.,  86.,  72.,  60.,  49.,  40.,  32.,  25.,  20.,  16.,\n",
       "        12.,   9.,   7.,   5.,   4.,   3.,   2.,   1.,   1.,   1.,   1.,\n",
       "         0.,   0.,   0.])"
      ]
     },
     "execution_count": 54,
     "metadata": {},
     "output_type": "execute_result"
    }
   ],
   "source": [
    "bin_counts"
   ]
  },
  {
   "cell_type": "code",
   "execution_count": 20,
   "metadata": {},
   "outputs": [
    {
     "data": {
      "text/plain": [
       "10000"
      ]
     },
     "execution_count": 20,
     "metadata": {},
     "output_type": "execute_result"
    }
   ],
   "source": [
    "normal_sample = np.array([])\n",
    "\n",
    "for i in range(k):\n",
    "    count = bin_counts[i]\n",
    "    strip = sub_strips_pairs[i]\n",
    "    sample = rand(int(count)) * width + strip[0]\n",
    "    normal_sample = np.append(normal_sample, sample)\n",
    "    \n",
    "len(normal_sample) ## ok, so we gained a couple of samples, but nothing to worry about"
   ]
  },
  {
   "cell_type": "code",
   "execution_count": 21,
   "metadata": {},
   "outputs": [
    {
     "data": {
      "image/png": "[encoded data removed]",
      "text/plain": [
       "<Figure size 432x288 with 1 Axes>"
      ]
     },
     "metadata": {
      "needs_background": "light"
     },
     "output_type": "display_data"
    }
   ],
   "source": [
    "plt.hist(normal_sample, bins = 80)\n",
    "plt.show()"
   ]
  },
  {
   "cell_type": "code",
   "execution_count": 53,
   "metadata": {},
   "outputs": [
    {
     "data": {
      "text/plain": [
       "-0.8679602426004758"
      ]
     },
     "execution_count": 53,
     "metadata": {},
     "output_type": "execute_result"
    }
   ],
   "source": [
    "## Now that we have a normally distributed sample, we can just make a uniformly random selection from this array\n",
    "\n",
    "\n",
    "normal_sample[np.random.randint(len(normal_sample))]"
   ]
  },
  {
   "cell_type": "markdown",
   "metadata": {},
   "source": [
    "Let's wrap this code up, and put it through its paces."
   ]
  },
  {
   "cell_type": "code",
   "execution_count": 18,
   "metadata": {},
   "outputs": [],
   "source": [
    "#TODO\n",
    "\n",
    "# Wrap Normal dist code into a class, with parameter k (number of bins) \n",
    "\n",
    "# test implementation with increasing accuracy, show that its slow \n",
    "\n",
    "# Start the box_mueller implementation"
   ]
  }
 ],
 "metadata": {
  "kernelspec": {
   "display_name": "Python 3",
   "language": "python",
   "name": "python3"
  },
  "language_info": {
   "codemirror_mode": {
    "name": "ipython",
    "version": 3
   },
   "file_extension": ".py",
   "mimetype": "text/x-python",
   "name": "python",
   "nbconvert_exporter": "python",
   "pygments_lexer": "ipython3",
   "version": "3.7.1"
  }
 },
 "nbformat": 4,
 "nbformat_minor": 2
}
