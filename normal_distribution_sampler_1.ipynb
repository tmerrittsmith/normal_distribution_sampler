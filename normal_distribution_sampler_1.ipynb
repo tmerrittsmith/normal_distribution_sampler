{
 "cells": [
  {
   "cell_type": "markdown",
   "metadata": {},
   "source": [
    "# A normal distribution sampler in python"
   ]
  },
  {
   "cell_type": "markdown",
   "metadata": {},
   "source": [
    "Last year, I had the pleasure of attending a tutorial with the great [Petros Dellaportas](http://www.homepages.ucl.ac.uk/~ucakpde/#), a one-day primer in bayesian inference. One of the main sessions was about Markov chain Monte Carlo sampling, the technique whose name inspired one of the all-time greatest blog names (and blogs) ever: ['While my MCMC gently samples'](https://twiecki.io/)... and _also_ a game-changing statistical insight when it comes to sampling from complex statistical distributions. Following the session, I caught up with Petros and asked a dumb but useful question: \n",
    "\n",
    "<p><center>'So, I kind of understand MCMC now... but why does it matter?!'</center></p>\n",
    "\n",
    "Petros being Petros, he was more than equal to my question:\n",
    "\n",
    "<p><center>'MCMC is a tool to sample from complex distributions. Let's start with a simple distribution, the Normal Distribution. After this session, go and write a normal distribution sampler. Then, go and look up the Box-Mueller method, and you'll realise that MCMC matters - effective sampling from distributions is not trivial!'</center></p>\n",
    "\n",
    "So, here's my naive attempt at sampling from the normal distribution:\n",
    "- Use trapezia to approximate the area under normal distribution curve\n",
    "- The size of the strip can tell us how many uniformly distributed samples we need for that range\n",
    "- We can get a better approximation with more strips"
   ]
  },
  {
   "cell_type": "code",
   "execution_count": 9,
   "metadata": {},
   "outputs": [],
   "source": [
    "import numpy as np\n",
    "from numpy.random import rand\n",
    "import matplotlib.pyplot as plt\n",
    "%matplotlib inline \n"
   ]
  },
  {
   "cell_type": "markdown",
   "metadata": {},
   "source": [
    "The probability density function of the normal distribution is defined as:\n",
    "\n",
    "$$ f(x|\\mu, \\sigma) = \\frac{1}{\\sqrt{2\\pi \\sigma ^2}}e ^ {- \\frac{(x-\\mu)^2}{2\\sigma^2}}  $$"
   ]
  },
  {
   "cell_type": "code",
   "execution_count": 23,
   "metadata": {},
   "outputs": [],
   "source": [
    "from math import pi\n",
    "\n",
    "def norm(x_array, m, s):\n",
    "    point_array = 1/np.sqrt(2* pi * s ** 2) * np.exp((-(x_array - mu)**2)/2*s**2)\n",
    "    return(point_array)"
   ]
  },
  {
   "cell_type": "code",
   "execution_count": 32,
   "metadata": {},
   "outputs": [
    {
     "data": {
      "image/png": "[encoded data removed]",
      "text/plain": [
       "<Figure size 576x360 with 1 Axes>"
      ]
     },
     "metadata": {
      "needs_background": "light"
     },
     "output_type": "display_data"
    }
   ],
   "source": [
    "mu = 0\n",
    "sigma = 1\n",
    "x = np.linspace(-5,5,200)\n",
    "y = norm(x, m=0, s=1)\n",
    "\n",
    "\n",
    "fig, ax = plt.subplots(figsize=(8,5))\n",
    "\n",
    "ax.set_ylim([0,0.41])\n",
    "\n",
    "ax.plot(x, y)\n",
    "plt.title(\"Normal distribution curve with $\\mu=${} and $\\sigma=${}\".format(mu,sigma))\n",
    "plt.show()"
   ]
  },
  {
   "cell_type": "markdown",
   "metadata": {},
   "source": [
    "Now, if we want to use the uniform sampler to generate a sample distribution X, such that $ X \\sim N(0, 1)$, we need to know how to reshape our uniform distribution. To do this, we'll split the normal curve into strips, calculate the area under the curve for each strip, and use this to tell us how many uniformly distributed samples we need for each strip. \n"
   ]
  },
  {
   "cell_type": "markdown",
   "metadata": {},
   "source": [
    "Given an interval, we can calculate the y values at the beginning and end of the interval, then we use the trapezium rule to get the area of this slice:\n",
    "\n",
    "$$ \\frac{1}{2} * (a + b) * width $$  \n",
    "\n"
   ]
  },
  {
   "cell_type": "code",
   "execution_count": 34,
   "metadata": {},
   "outputs": [
    {
     "data": {
      "text/plain": [
       "0.09820129965053524"
      ]
     },
     "execution_count": 34,
     "metadata": {},
     "output_type": "execute_result"
    }
   ],
   "source": [
    "## function to calculate the trapezium area\n",
    "\n",
    "def trap_area(y1, y2, width):\n",
    "    return 0.5*(y1 + y2)* width\n",
    "\n",
    "trap_area(*y_vals, x_width)"
   ]
  },
  {
   "cell_type": "code",
   "execution_count": 638,
   "metadata": {},
   "outputs": [
    {
     "name": "stdout",
     "output_type": "stream",
     "text": [
      "0.99993608729814\n"
     ]
    }
   ],
   "source": [
    "sigma = 1\n",
    "mu = 0\n",
    "n_sigma = 4\n",
    "\n",
    "## set our full interval to be 4 s.d. from the mean\n",
    "## so with X~(0,1) we'll get an interval of (-4, 4)\n",
    "\n",
    "interval = np.array([mu - sigma * n_sigma,mu + sigma * n_sigma])\n",
    "\n",
    "## split this into k strips, which will control how fine-grain our slices are (let's say k = 80, intervals of 0.1)\n",
    "k = 100\n",
    "\n",
    "strip_width = (interval[1]-interval[0])/k\n",
    "sub_strips = np.linspace(*interval, k + 1) ## 81 edges gives 80 strips\n",
    "sub_strips_pairs = [np.array([sub_strips[p],sub_strips[p+1]]) for p in range(k)]\n",
    "\n",
    "\n",
    "## also set how many samples we want \n",
    "n = 10000\n",
    "\n",
    "## the area of the strip tells us how many values we want to select, as a proportion of n\n",
    "## create an array of areas\n",
    "\n",
    "areas = np.array([trap_area(*norm(s, mu, sigma), strip_width) for s in sub_strips_pairs])\n",
    "\n",
    "print(areas.sum()) ## Check that my probabilities summed to 1. They don't quite, because the trapezium rule is an estimate.\n",
    "                   ## We'll need a way to make sure this discrepancy doesn't affect the number of samples we want to produce at the end"
   ]
  },
  {
   "cell_type": "code",
   "execution_count": 692,
   "metadata": {},
   "outputs": [
    {
     "name": "stdout",
     "output_type": "stream",
     "text": [
      "2.04 s ± 20.8 ms per loop (mean ± std. dev. of 7 runs, 1 loop each)\n"
     ]
    }
   ],
   "source": [
    "%%timeit\n",
    "n = 100000\n",
    "samples = []\n",
    "for i in range(n):\n",
    "    rand__ = np.random.random() * strip_width\n",
    "    interval = np.random.multinomial(1, areas).argmax()\n",
    "    sample = np.array(sub_strips)[interval] + rand__\n",
    "    samples.append(sample)"
   ]
  },
  {
   "cell_type": "code",
   "execution_count": 640,
   "metadata": {},
   "outputs": [
    {
     "data": {
      "image/png": "[encoded data removed]",
      "text/plain": [
       "<Figure size 432x288 with 1 Axes>"
      ]
     },
     "metadata": {
      "needs_background": "light"
     },
     "output_type": "display_data"
    }
   ],
   "source": [
    "plt.hist(samples, bins=100)\n",
    "plt.show()"
   ]
  },
  {
   "cell_type": "markdown",
   "metadata": {},
   "source": [
    "This approach is simple enough, but it's only an estimate, and the better the estimate, the longer it will take to run. Thankfully, there's a bunch of better techniques already developed which can help!"
   ]
  },
  {
   "cell_type": "markdown",
   "metadata": {},
   "source": [
    "## The Box-Mueller implementation"
   ]
  },
  {
   "cell_type": "markdown",
   "metadata": {},
   "source": [
    "The Box-Mueller transform is one of the first, and is really neat in terms of it's simplicity, transforming a random cartesian coordinate to polar coordinates and leveraging the link between polar coordinates and the gaussian function.\n",
    "\n",
    "See [here](https://en.wikipedia.org/wiki/Box%E2%80%93Muller_transform#cite_note-5) for a summary, and [here](https://math.stackexchange.com/a/3334295/448595) for a nice intuitive explanation."
   ]
  },
  {
   "cell_type": "markdown",
   "metadata": {},
   "source": [
    "https://upload.wikimedia.org/wikipedia/commons/1/1f/Box-Muller_transform_visualisation.svg"
   ]
  },
  {
   "cell_type": "code",
   "execution_count": 774,
   "metadata": {},
   "outputs": [],
   "source": [
    "n = 100000\n",
    "y1 = np.random.random(n)\n",
    "y2 = np.random.random(n)\n",
    "x1 = np.sqrt(-2 * np.log(y1)) * np.cos(2 * np.pi * y2)"
   ]
  },
  {
   "cell_type": "code",
   "execution_count": 777,
   "metadata": {},
   "outputs": [
    {
     "data": {
      "image/png": "[encoded data removed]",
      "text/plain": [
       "<Figure size 432x288 with 1 Axes>"
      ]
     },
     "metadata": {
      "needs_background": "light"
     },
     "output_type": "display_data"
    }
   ],
   "source": [
    "plt.hist(x1, bins=100)\n",
    "plt.show()"
   ]
  },
  {
   "cell_type": "markdown",
   "metadata": {},
   "source": [
    "### Marsaglia polar method"
   ]
  },
  {
   "cell_type": "markdown",
   "metadata": {},
   "source": [
    "At the time, the Marsaglia polar method was more efficient than box-mueller -- using a square root and a log instead of a cosine function, which would be more expensive, at least on older processors (these days it may not be!)"
   ]
  },
  {
   "cell_type": "code",
   "execution_count": 270,
   "metadata": {},
   "outputs": [],
   "source": [
    "def reject_r2():\n",
    "    r2 = 1\n",
    "    while r2 >= 1:\n",
    "        y1 = np.random.random() * 2 - 1\n",
    "        y2 = np.random.random() * 2 - 1\n",
    "        r2 = y1 ** 2 + y2 ** 2\n",
    "    return r2, y1, y2\n",
    "\n",
    "def transform_r2(r2):\n",
    "    return np.sqrt( -2 * np.log(r2) / r2)   "
   ]
  },
  {
   "cell_type": "code",
   "execution_count": 689,
   "metadata": {},
   "outputs": [
    {
     "name": "stdout",
     "output_type": "stream",
     "text": [
      "635 ms ± 9.4 ms per loop (mean ± std. dev. of 7 runs, 1 loop each)\n"
     ]
    }
   ],
   "source": [
    "n = 100000\n",
    "\n",
    "x1s = []\n",
    "x2s = []\n",
    "\n",
    "for i in range(n):    \n",
    "    r2, y1, y2 = reject_r2()\n",
    "    transformed_r2 = transform_r2(r2)\n",
    "\n",
    "    x1 = transformed_r2  * y1\n",
    "#     x2 = transformed_r2 * y2\n",
    "    \n",
    "    x1s.append(x1)\n",
    "#     x2s.append(x2)"
   ]
  },
  {
   "cell_type": "code",
   "execution_count": 526,
   "metadata": {},
   "outputs": [
    {
     "data": {
      "image/png": "[encoded data removed]",
      "text/plain": [
       "<Figure size 432x288 with 1 Axes>"
      ]
     },
     "metadata": {
      "needs_background": "light"
     },
     "output_type": "display_data"
    }
   ],
   "source": [
    "plt.hist(x1s, bins=100)\n",
    "plt.show()"
   ]
  },
  {
   "cell_type": "markdown",
   "metadata": {},
   "source": [
    "### Marsaglia's Ziggurat\n",
    "\n",
    "This one is my favourite, mainly because of the cool pyramid shape that you get. However, it's a bit more tricky to implement. Essentially, we split the distribution into a series of rectangles, with an end section following the curve of the distribution. Then for each uniform random number we generate, we can test whether the number is within the distribution, and since most of them will be within a rectangle, we don't need _any_ complex (and hence costly) calculations."
   ]
  },
  {
   "cell_type": "code",
   "execution_count": 52,
   "metadata": {},
   "outputs": [],
   "source": [
    "from scipy.special import erf, erfc\n",
    "\n",
    "def gauss(x):\n",
    "    return np.exp((- x ** 2) / 2)\n",
    "\n",
    "\n",
    "def inverse_gauss(x):\n",
    "    return np.sqrt(- 2 * np.log(x))\n",
    "\n",
    "def unnormalised_erfc(x):\n",
    "    return np.sqrt(np.pi / 2) * erfc(x / np.sqrt(2))\n"
   ]
  },
  {
   "cell_type": "markdown",
   "metadata": {},
   "source": [
    "The key to this algorithm is that each rectangular layer has the same area as the unbounded base layer, so given a specific number of layers, we must determine what this area is. To do so, we use an optimisation function to minimise the height of each rectangle."
   ]
  },
  {
   "cell_type": "code",
   "execution_count": 709,
   "metadata": {},
   "outputs": [
    {
     "name": "stdout",
     "output_type": "stream",
     "text": [
      "2.1760594405477605\n"
     ]
    },
    {
     "name": "stderr",
     "output_type": "stream",
     "text": [
      "<ipython-input-52-7d7d6863c5ec>:8: RuntimeWarning: invalid value encountered in sqrt\n",
      "  return np.sqrt(- 2 * np.log(x))\n"
     ]
    }
   ],
   "source": [
    "from scipy.optimize import bisect\n",
    "\n",
    "n = 5\n",
    "\n",
    "def find_x1(x, n):\n",
    "    y = gauss(x)\n",
    "    area = unnormalised_erfc(x) + x * y\n",
    "    for i in range(n):\n",
    "        y_new = y + area / x\n",
    "        x_new = inverse_gauss(y_new)\n",
    "        y = y_new\n",
    "        x = x_new\n",
    "    if np.isnan(y):\n",
    "        return -1\n",
    "    else:\n",
    "        return 1 - y\n",
    "\n",
    "x_1 = bisect(lambda x:find_x1(x, n), 1, 5)\n",
    "print(x_1)"
   ]
  },
  {
   "cell_type": "markdown",
   "metadata": {},
   "source": [
    "Now we can calculate the x values for each subsequent layer, as well as an $x_0$ value which we will use to test values in the base layer."
   ]
  },
  {
   "cell_type": "code",
   "execution_count": 644,
   "metadata": {},
   "outputs": [],
   "source": [
    "def calculate_table(x, n):\n",
    "    y = gauss(x)\n",
    "    areas = []\n",
    "    xs = []\n",
    "    ys = []\n",
    "    area = unnormalised_erfc(x) + x * y\n",
    "    xs.append(area/y) # this is the test value for the base layer\n",
    "    for i in range(n):\n",
    "        areas.append(area)\n",
    "        y_new = y + area / x\n",
    "        x_new = inverse_gauss(y_new)\n",
    "        xs.append(x)\n",
    "        ys.append(y)\n",
    "        area = x * (y_new - y)\n",
    "        y = y_new\n",
    "        x = x_new\n",
    "    xs.append(0)\n",
    "    return areas, ys, xs"
   ]
  },
  {
   "cell_type": "code",
   "execution_count": 710,
   "metadata": {},
   "outputs": [
    {
     "name": "stderr",
     "output_type": "stream",
     "text": [
      "<ipython-input-52-7d7d6863c5ec>:8: RuntimeWarning: invalid value encountered in sqrt\n",
      "  return np.sqrt(- 2 * np.log(x))\n"
     ]
    }
   ],
   "source": [
    "areas, ys, xs = calculate_table(x_1, 5)"
   ]
  },
  {
   "cell_type": "code",
   "execution_count": 771,
   "metadata": {},
   "outputs": [
    {
     "data": {
      "image/png": "[encoded data removed]",
      "text/plain": [
       "<Figure size 360x360 with 1 Axes>"
      ]
     },
     "metadata": {
      "needs_background": "light"
     },
     "output_type": "display_data"
    }
   ],
   "source": [
    "def plot_ziggurat(x, yl, yu):\n",
    "    ax.plot([0, x, x, 0, 0],[yl, yl, yu, yu, yl], color='r')\n",
    "    \n",
    "x = np.linspace(0,3,60)\n",
    "y = gauss(x)\n",
    "xs_ = xs[1:-1]\n",
    "fig, ax = plt.subplots(figsize=(5,5))\n",
    "ax.plot(x, y, linewidth=5)\n",
    "ax.set_xlim(0,3)\n",
    "ax.set_ylim(0,1.01)\n",
    "\n",
    "plot_ziggurat(xs_[-1], ys[-1],1)\n",
    "ax.plot([xs_[0], xs_[0]],[0, ys[0]], \"--\",  color='r')\n",
    "for i in range(1, len(xs_)):\n",
    "    ax.plot([xs_[i], xs_[i]],[ys[i], ys[i - 1]], \"--\",  color='r')\n",
    "    plot_ziggurat(xs[i], ys[i -1],ys[i])\n",
    "\n",
    "plt.title('Initialised Ziggurat')\n",
    "plt.show()"
   ]
  },
  {
   "cell_type": "markdown",
   "metadata": {},
   "source": [
    "The rejection algorithm is as follows:\n",
    "\n",
    "Select a layer at random, with probability $\\frac{1}{n}$. The rightmost boundary of this layer is $x_i$.\n",
    "\n",
    "Draw two random numbers $0 < u_1, u_2 < 1$\n",
    "\n",
    "Let $z = u_0 x_i$:\n",
    "\n",
    "If $z \\leq x_{i + 1}$: x is clearly within the distribution, so return z\n",
    "\n",
    "Else if $u_1(f(x_{i + 1} - f(x_i)) \\geq f(z) - f(x_i)$, return $z$, otherwise restart the algorithm.\n",
    "\n",
    "In the top layer, we will always test $u_1(f(x_{i + 1} - f(x_i)) \\geq f(z) - f(x_i)$, since $x_{i + 1} = 0$\n",
    "\n",
    "In the base layer, we instead test $\\frac{uV}{f(x_1)} \\geq z$, where V is the area of the base layer, and otherwise use the [marsaglia tail method](https://core.ac.uk/download/pdf/6287927.pdf) to generate a sample.\n",
    "\n"
   ]
  },
  {
   "cell_type": "code",
   "execution_count": 647,
   "metadata": {},
   "outputs": [],
   "source": [
    "def marsaglia_tail(s):\n",
    "    u = np.random.random()\n",
    "    x = np.sqrt(s ** 2 - 2 * np.log(u))\n",
    "    while u >= x:\n",
    "        u = np.random.random()\n",
    "        x = np.sqrt(s ** 2 - 2 * np.log(u))\n",
    "    return x\n",
    "\n",
    "\n",
    "def ziggurat_sample(table):\n",
    "    # draw a random uniform\n",
    "    gauss_table = [gauss(x) for x in table]\n",
    "    i = np.random.randint(0, len(table) - 1)\n",
    "    u0, u1 = np.random.random(2)\n",
    "    z = u0 * table[i]\n",
    "    \n",
    "    if z < table[i + 1]:\n",
    "        return z, i, 'box'\n",
    "    \n",
    "    elif i >= 1:\n",
    "        lhs = u1 * (gauss_table[i + 1] - gauss_table[i])\n",
    "        rhs = gauss(z) - gauss_table[i]\n",
    "        if lhs < rhs:\n",
    "            return z, i, 'tail'\n",
    "        else:\n",
    "            return ziggurat_sample(table)\n",
    "    else:\n",
    "        tail = marsaglia_tail(table[1])\n",
    "        return tail, i, 'tail'\n",
    "            \n",
    "        "
   ]
  },
  {
   "cell_type": "code",
   "execution_count": 772,
   "metadata": {},
   "outputs": [
    {
     "name": "stdout",
     "output_type": "stream",
     "text": [
      "Wall time: 3.12 s\n"
     ]
    }
   ],
   "source": [
    "%%time \n",
    "samples = []\n",
    "boundaries = []\n",
    "classes =[]\n",
    "for i in range(100000):\n",
    "    sample, i, cls = ziggurat_sample(xs)\n",
    "    samples.append(sample)\n",
    "samples = np.array(samples)"
   ]
  },
  {
   "cell_type": "code",
   "execution_count": 773,
   "metadata": {},
   "outputs": [
    {
     "data": {
      "image/png": "[encoded data removed]",
      "text/plain": [
       "<Figure size 432x288 with 1 Axes>"
      ]
     },
     "metadata": {
      "needs_background": "light"
     },
     "output_type": "display_data"
    }
   ],
   "source": [
    "plt.hist(samples, bins=1000)\n",
    "\n",
    "plt.title('Normally distributed sample using the ziggurat algorithm')\n",
    "plt.show()"
   ]
  }
 ],
 "metadata": {
  "kernelspec": {
   "display_name": "Python 3",
   "language": "python",
   "name": "python3"
  },
  "language_info": {
   "codemirror_mode": {
    "name": "ipython",
    "version": 3
   },
   "file_extension": ".py",
   "mimetype": "text/x-python",
   "name": "python",
   "nbconvert_exporter": "python",
   "pygments_lexer": "ipython3",
   "version": "3.8.3"
  }
 },
 "nbformat": 4,
 "nbformat_minor": 2
}
