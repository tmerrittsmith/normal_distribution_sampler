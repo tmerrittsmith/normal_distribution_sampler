{
 "cells": [
  {
   "cell_type": "markdown",
   "metadata": {},
   "source": [
    "# A normal distribution sampler in python"
   ]
  },
  {
   "cell_type": "markdown",
   "metadata": {},
   "source": [
    "Last year, I had the pleasure of attending a tutorial with the great [Petros Dellaportas](http://www.homepages.ucl.ac.uk/~ucakpde/#), a one-day primer in bayesian inference. One of the main sessions was about Markov chain Monte Carlo sampling, the technique whose name inspired one of the all-time greatest blog names (and blogs) ever: ['While my MCMC gently samples'](https://twiecki.io/)... and _also_ a game-changing statistical insight when it comes to sampling from complex statistical distributions. Following the session, I caught up with Petros and asked a dumb but useful question: \n",
    "\n",
    "<p><center>'So, I kind of understand MCMC now... but why does it matter?!'</center></p>\n",
    "\n",
    "Petros being Petros, he was more than equal to my question:\n",
    "\n",
    "<p><center>'MCMC is a tool to sample from complex distributions. Let's start with a simple distribution, the Normal Distribution. After this session, go and write a normal distribution sampler. Then, go and look up the Box-Mueller method, and you'll realise that MCMC matters - effective sampling from distributions is not trivial!'</center></p>\n",
    "\n",
    "So, here's my naive attempt at sampling from the normal distribution. "
   ]
  },
  {
   "cell_type": "code",
   "execution_count": 1,
   "metadata": {},
   "outputs": [],
   "source": [
    "import numpy as np\n",
    "from numpy.random import rand"
   ]
  },
  {
   "cell_type": "code",
   "execution_count": 2,
   "metadata": {},
   "outputs": [
    {
     "data": {
      "image/png": "[encoded data removed]",
      "text/plain": [
       "<Figure size 432x288 with 1 Axes>"
      ]
     },
     "metadata": {
      "needs_background": "light"
     },
     "output_type": "display_data"
    }
   ],
   "source": [
    "\n",
    "import matplotlib.pyplot as plt\n",
    "%matplotlib inline \n",
    "n = 10000\n",
    "\n",
    "test_set = rand(n)\n",
    "\n",
    "plt.hist(test_set, bins=100)  \n",
    "plt.title(\"Histogram of %i values generated by Uniform Distribution\" %(n))\n",
    "plt.show()"
   ]
  },
  {
   "cell_type": "markdown",
   "metadata": {},
   "source": [
    "The probability density function of the normal distribution is defined as:\n",
    "\n",
    "$$ f(x|\\mu, \\sigma) = \\frac{1}{\\sqrt{2\\pi \\sigma ^2}}e ^ {- \\frac{(x-\\mu)^2}{2\\sigma^2}}  $$"
   ]
  },
  {
   "cell_type": "code",
   "execution_count": 3,
   "metadata": {},
   "outputs": [],
   "source": [
    "from math import pi\n",
    "\n",
    "def norm(x_array, m, s):\n",
    "    point_array = 1/np.sqrt(2* pi * s ** 2) * np.exp((-(x_array - mu)**2)/2*s**2)\n",
    "    return(point_array)"
   ]
  },
  {
   "cell_type": "code",
   "execution_count": 4,
   "metadata": {},
   "outputs": [
    {
     "data": {
      "image/png": "[encoded data removed]",
      "text/plain": [
       "<Figure size 648x648 with 1 Axes>"
      ]
     },
     "metadata": {
      "needs_background": "light"
     },
     "output_type": "display_data"
    }
   ],
   "source": [
    "sigma = 1\n",
    "mu = 0\n",
    "\n",
    "x = np.linspace(-5,5,200)\n",
    "y = norm(x, mu, sigma)\n",
    "\n",
    "\n",
    "fig = plt.figure(figsize=(9,9))\n",
    "\n",
    "n_axes = fig.add_subplot(211)\n",
    "\n",
    "n_axes.set_autoscaley_on(False)\n",
    "n_axes.set_ylim([0,0.4])\n",
    "\n",
    "n_axes.plot(x, y)\n",
    "plt.title(\"Normal distribution curve with mean %i and s.d. %i\" %(mu, sigma))\n",
    "plt.show()"
   ]
  },
  {
   "cell_type": "markdown",
   "metadata": {},
   "source": [
    "Now, if we want to use the uniform sampler to generate a sample distribution X, such that $ X \\sim N(0, 1)$, we need to know how to reshape our uniform distribution. To do this, we'll split the normal curve into strips, calculate the area under the curve for each strip, and use this to tell us how many uniformly distributed samples we need for each strip. \n",
    "\n",
    "Given an interval, we can calculate the y values at the beginning and end of the interval, then we use the trapezium rule to get the area of this slice:\n",
    "\n",
    "$$ \\frac{1}{2} * (a + b) * width $$  \n",
    "\n"
   ]
  },
  {
   "cell_type": "code",
   "execution_count": 5,
   "metadata": {
    "scrolled": true
   },
   "outputs": [
    {
     "name": "stdout",
     "output_type": "stream",
     "text": [
      "[0.39894228 0.38666812]\n",
      "0.09820129965053524\n"
     ]
    }
   ],
   "source": [
    "sigma = 1\n",
    "mu = 0\n",
    "\n",
    "\n",
    "x_int = np.array([0,0.25])\n",
    "x_width = x_int.max() - x_int.min()\n",
    "y_vals = norm(x_int, mu, sigma)\n",
    "area = 0.5 * y_vals.sum()*x_width\n",
    "\n",
    "print(y_vals)\n",
    "print(area)"
   ]
  },
  {
   "cell_type": "code",
   "execution_count": 6,
   "metadata": {},
   "outputs": [
    {
     "data": {
      "text/plain": [
       "0.09820129965053524"
      ]
     },
     "execution_count": 6,
     "metadata": {},
     "output_type": "execute_result"
    }
   ],
   "source": [
    "## function to calculate the trapezium area\n",
    "\n",
    "def trap_area(y1, y2, width):\n",
    "    return 0.5*(y1 + y2)* width\n",
    "\n",
    "trap_area(*y_vals, x_width)"
   ]
  },
  {
   "cell_type": "code",
   "execution_count": 173,
   "metadata": {},
   "outputs": [
    {
     "name": "stdout",
     "output_type": "stream",
     "text": [
      "0.08\n",
      "[-4.   -3.92 -3.84 -3.76 -3.68 -3.6  -3.52 -3.44 -3.36 -3.28 -3.2  -3.12\n",
      " -3.04 -2.96 -2.88 -2.8  -2.72 -2.64 -2.56 -2.48 -2.4  -2.32 -2.24 -2.16\n",
      " -2.08 -2.   -1.92 -1.84 -1.76 -1.68 -1.6  -1.52 -1.44 -1.36 -1.28 -1.2\n",
      " -1.12 -1.04 -0.96 -0.88 -0.8  -0.72 -0.64 -0.56 -0.48 -0.4  -0.32 -0.24\n",
      " -0.16 -0.08  0.    0.08  0.16  0.24  0.32  0.4   0.48  0.56  0.64  0.72\n",
      "  0.8   0.88  0.96  1.04  1.12  1.2   1.28  1.36  1.44  1.52  1.6   1.68\n",
      "  1.76  1.84  1.92  2.    2.08  2.16  2.24  2.32  2.4   2.48  2.56  2.64\n",
      "  2.72  2.8   2.88  2.96  3.04  3.12  3.2   3.28  3.36  3.44  3.52  3.6\n",
      "  3.68  3.76  3.84  3.92  4.  ]\n",
      "0.99993608729814\n"
     ]
    }
   ],
   "source": [
    "sigma = 1\n",
    "mu = 0\n",
    "n_sigma = 4\n",
    "\n",
    "## set our full interval to be 4 s.d. from the mean\n",
    "## so with X~(0,1) we'll get an interval of (-4, 4)\n",
    "\n",
    "interval = np.array([mu - sigma * n_sigma,mu + sigma * n_sigma])\n",
    "\n",
    "## split this into k strips, which will control how fine-grain our slices are (let's say k = 80, intervals of 0.1)\n",
    "k = 100\n",
    "\n",
    "strip_width = (interval[1]-interval[0])/k\n",
    "print(strip_width)\n",
    "\n",
    "sub_strips = np.linspace(*interval, k + 1) ## 81 edges gives 80 strips\n",
    "print(sub_strips)\n",
    "sub_strips_pairs = [np.array([sub_strips[p],sub_strips[p+1]]) for p in range(k)]\n",
    "\n",
    "\n",
    "## also set how many samples we want \n",
    "n = 10000\n",
    "\n",
    "## the area of the strip tells us how many values we want to select, as a proportion of n\n",
    "## create an array of areas\n",
    "\n",
    "areas = np.array([trap_area(*norm(s, mu, sigma), strip_width) for s in sub_strips_pairs])\n",
    "\n",
    "print(areas.sum()) ## Check that my probabilities summed to 1. They don't quite, because the trapezium rule is an estimate.\n",
    "                   ## We'll need a way to make sure this discrepancy doesn't affect the number of samples we want to produce at the end"
   ]
  },
  {
   "cell_type": "code",
   "execution_count": 174,
   "metadata": {},
   "outputs": [
    {
     "data": {
      "text/plain": [
       "array([1.27017090e-05, 1.73716377e-05, 2.36071863e-05, 3.18766411e-05,\n",
       "       4.27686698e-05, 5.70169264e-05, 7.55277828e-05, 9.94110239e-05,\n",
       "       1.30013138e-04, 1.68952575e-04, 2.18156060e-04, 2.79894677e-04,\n",
       "       3.56818114e-04, 4.51985024e-04, 5.68887119e-04, 7.11464215e-04,\n",
       "       8.84107206e-04, 1.09164571e-03, 1.33931708e-03, 1.63271364e-03,\n",
       "       1.97770519e-03, 2.38033461e-03, 2.84668487e-03, 3.38271730e-03,\n",
       "       3.99408171e-03, 4.68590112e-03, 5.46253496e-03, 6.32732696e-03,\n",
       "       7.28234523e-03, 8.32812416e-03, 9.46341886e-03, 1.06849841e-02,\n",
       "       1.19873902e-02, 1.33628888e-02, 1.48013394e-02, 1.62902081e-02,\n",
       "       1.78146461e-02, 1.93576538e-02, 2.09003325e-02, 2.24222210e-02,\n",
       "       2.39017125e-02, 2.53165410e-02, 2.66443221e-02, 2.78631327e-02,\n",
       "       2.89521068e-02, 2.98920267e-02, 3.06658857e-02, 3.12593991e-02,\n",
       "       3.16614427e-02, 3.18643994e-02, 3.18643994e-02, 3.16614427e-02,\n",
       "       3.12593991e-02, 3.06658857e-02, 2.98920267e-02, 2.89521068e-02,\n",
       "       2.78631327e-02, 2.66443221e-02, 2.53165410e-02, 2.39017125e-02,\n",
       "       2.24222210e-02, 2.09003325e-02, 1.93576538e-02, 1.78146461e-02,\n",
       "       1.62902081e-02, 1.48013394e-02, 1.33628888e-02, 1.19873902e-02,\n",
       "       1.06849841e-02, 9.46341886e-03, 8.32812416e-03, 7.28234523e-03,\n",
       "       6.32732696e-03, 5.46253496e-03, 4.68590112e-03, 3.99408171e-03,\n",
       "       3.38271730e-03, 2.84668487e-03, 2.38033461e-03, 1.97770519e-03,\n",
       "       1.63271364e-03, 1.33931708e-03, 1.09164571e-03, 8.84107206e-04,\n",
       "       7.11464215e-04, 5.68887119e-04, 4.51985024e-04, 3.56818114e-04,\n",
       "       2.79894677e-04, 2.18156060e-04, 1.68952575e-04, 1.30013138e-04,\n",
       "       9.94110239e-05, 7.55277828e-05, 5.70169264e-05, 4.27686698e-05,\n",
       "       3.18766411e-05, 2.36071863e-05, 1.73716377e-05, 1.27017090e-05])"
      ]
     },
     "execution_count": 174,
     "metadata": {},
     "output_type": "execute_result"
    }
   ],
   "source": [
    "areas"
   ]
  },
  {
   "cell_type": "code",
   "execution_count": 175,
   "metadata": {},
   "outputs": [
    {
     "data": {
      "text/plain": [
       "0.08"
      ]
     },
     "execution_count": 175,
     "metadata": {},
     "output_type": "execute_result"
    }
   ],
   "source": [
    "strip_width"
   ]
  },
  {
   "cell_type": "code",
   "execution_count": 176,
   "metadata": {},
   "outputs": [
    {
     "name": "stdout",
     "output_type": "stream",
     "text": [
      "0 values in the interval (-3.840000,-3.760000)\n"
     ]
    },
    {
     "data": {
      "text/plain": [
       "(0,)"
      ]
     },
     "execution_count": 176,
     "metadata": {},
     "output_type": "execute_result"
    }
   ],
   "source": [
    "## sense check\n",
    "\n",
    "\n",
    "##  we can generate these using a uniformly distributed rv within that interval\n",
    "bin_counts = np.round(areas * n)\n",
    "\n",
    "\n",
    "x = bin_counts[2]\n",
    "interval = sub_strips_pairs[2]\n",
    "\n",
    "\n",
    "print(\"%i values in the interval (%f,%f)\" %(x, *interval))\n",
    "p = rand(int(x)) * strip_width + interval[0]\n",
    "p.shape"
   ]
  },
  {
   "cell_type": "markdown",
   "metadata": {},
   "source": [
    "Implementing largest remainder method to distribute remainder correctly"
   ]
  },
  {
   "cell_type": "code",
   "execution_count": 177,
   "metadata": {
    "scrolled": true
   },
   "outputs": [],
   "source": [
    "leftover = int(n - (np.floor(areas * n) ).sum())\n",
    "\n",
    "## sort by decimal parts, and distribute leftovers \n",
    "# index = np.arange(len(bin_counts))\n",
    "rounded_down = areas * n - np.floor(areas * n)\n"
   ]
  },
  {
   "cell_type": "code",
   "execution_count": 178,
   "metadata": {},
   "outputs": [
    {
     "data": {
      "text/plain": [
       "array([1.27017090e-01, 1.73716377e-01, 2.36071863e-01, 3.18766411e-01,\n",
       "       4.27686698e-01, 5.70169264e-01, 7.55277828e-01, 9.94110239e-01,\n",
       "       1.30013138e+00, 1.68952575e+00, 2.18156060e+00, 2.79894677e+00,\n",
       "       3.56818114e+00, 4.51985024e+00, 5.68887119e+00, 7.11464215e+00,\n",
       "       8.84107206e+00, 1.09164571e+01, 1.33931708e+01, 1.63271364e+01,\n",
       "       1.97770519e+01, 2.38033461e+01, 2.84668487e+01, 3.38271730e+01,\n",
       "       3.99408171e+01, 4.68590112e+01, 5.46253496e+01, 6.32732696e+01,\n",
       "       7.28234523e+01, 8.32812416e+01, 9.46341886e+01, 1.06849841e+02,\n",
       "       1.19873902e+02, 1.33628888e+02, 1.48013394e+02, 1.62902081e+02,\n",
       "       1.78146461e+02, 1.93576538e+02, 2.09003325e+02, 2.24222210e+02,\n",
       "       2.39017125e+02, 2.53165410e+02, 2.66443221e+02, 2.78631327e+02,\n",
       "       2.89521068e+02, 2.98920267e+02, 3.06658857e+02, 3.12593991e+02,\n",
       "       3.16614427e+02, 3.18643994e+02, 3.18643994e+02, 3.16614427e+02,\n",
       "       3.12593991e+02, 3.06658857e+02, 2.98920267e+02, 2.89521068e+02,\n",
       "       2.78631327e+02, 2.66443221e+02, 2.53165410e+02, 2.39017125e+02,\n",
       "       2.24222210e+02, 2.09003325e+02, 1.93576538e+02, 1.78146461e+02,\n",
       "       1.62902081e+02, 1.48013394e+02, 1.33628888e+02, 1.19873902e+02,\n",
       "       1.06849841e+02, 9.46341886e+01, 8.32812416e+01, 7.28234523e+01,\n",
       "       6.32732696e+01, 5.46253496e+01, 4.68590112e+01, 3.99408171e+01,\n",
       "       3.38271730e+01, 2.84668487e+01, 2.38033461e+01, 1.97770519e+01,\n",
       "       1.63271364e+01, 1.33931708e+01, 1.09164571e+01, 8.84107206e+00,\n",
       "       7.11464215e+00, 5.68887119e+00, 4.51985024e+00, 3.56818114e+00,\n",
       "       2.79894677e+00, 2.18156060e+00, 1.68952575e+00, 1.30013138e+00,\n",
       "       9.94110239e-01, 7.55277828e-01, 5.70169264e-01, 4.27686698e-01,\n",
       "       3.18766411e-01, 2.36071863e-01, 1.73716377e-01, 1.27017090e-01])"
      ]
     },
     "execution_count": 178,
     "metadata": {},
     "output_type": "execute_result"
    }
   ],
   "source": [
    "areas * n"
   ]
  },
  {
   "cell_type": "code",
   "execution_count": 179,
   "metadata": {},
   "outputs": [
    {
     "data": {
      "text/plain": [
       "54"
      ]
     },
     "execution_count": 179,
     "metadata": {},
     "output_type": "execute_result"
    }
   ],
   "source": [
    "leftover"
   ]
  },
  {
   "cell_type": "code",
   "execution_count": 180,
   "metadata": {},
   "outputs": [
    {
     "data": {
      "text/plain": [
       "100"
      ]
     },
     "execution_count": 180,
     "metadata": {},
     "output_type": "execute_result"
    }
   ],
   "source": [
    "len(areas)"
   ]
  },
  {
   "cell_type": "code",
   "execution_count": 181,
   "metadata": {},
   "outputs": [],
   "source": [
    "adjusted_bin_counts = np.floor(areas * n)"
   ]
  },
  {
   "cell_type": "code",
   "execution_count": 182,
   "metadata": {},
   "outputs": [
    {
     "data": {
      "text/plain": [
       "0.99993608729814"
      ]
     },
     "execution_count": 182,
     "metadata": {},
     "output_type": "execute_result"
    }
   ],
   "source": [
    "areas.sum()"
   ]
  },
  {
   "cell_type": "code",
   "execution_count": 183,
   "metadata": {},
   "outputs": [
    {
     "data": {
      "text/plain": [
       "array([0.12701709, 0.17371638, 0.23607186, 0.31876641, 0.4276867 ,\n",
       "       0.57016926, 0.75527783, 0.99411024, 0.30013138, 0.68952575,\n",
       "       0.1815606 , 0.79894677, 0.56818114, 0.51985024, 0.68887119,\n",
       "       0.11464215, 0.84107206, 0.91645707, 0.39317079, 0.32713638,\n",
       "       0.77705194, 0.80334608, 0.46684872, 0.82717297, 0.94081711,\n",
       "       0.85901118, 0.62534961, 0.27326956, 0.82345226, 0.2812416 ,\n",
       "       0.63418859, 0.84984081, 0.87390224, 0.62888827, 0.01339411,\n",
       "       0.9020807 , 0.14646061, 0.57653834, 0.00332516, 0.22220982,\n",
       "       0.01712529, 0.16540982, 0.44322109, 0.63132685, 0.52106752,\n",
       "       0.92026658, 0.65885651, 0.59399068, 0.61442683, 0.64399437,\n",
       "       0.64399437, 0.61442683, 0.59399068, 0.65885651, 0.92026658,\n",
       "       0.52106752, 0.63132685, 0.44322109, 0.16540982, 0.01712529,\n",
       "       0.22220982, 0.00332516, 0.57653834, 0.14646061, 0.9020807 ,\n",
       "       0.01339411, 0.62888827, 0.87390224, 0.84984081, 0.63418859,\n",
       "       0.2812416 , 0.82345226, 0.27326956, 0.62534961, 0.85901118,\n",
       "       0.94081711, 0.82717297, 0.46684872, 0.80334608, 0.77705194,\n",
       "       0.32713638, 0.39317079, 0.91645707, 0.84107206, 0.11464215,\n",
       "       0.68887119, 0.51985024, 0.56818114, 0.79894677, 0.1815606 ,\n",
       "       0.68952575, 0.30013138, 0.99411024, 0.75527783, 0.57016926,\n",
       "       0.4276867 , 0.31876641, 0.23607186, 0.17371638, 0.12701709])"
      ]
     },
     "execution_count": 183,
     "metadata": {},
     "output_type": "execute_result"
    }
   ],
   "source": [
    "rounded_down"
   ]
  },
  {
   "cell_type": "code",
   "execution_count": 184,
   "metadata": {},
   "outputs": [],
   "source": [
    "#  = np.argpartition(a, -4)[-4:\n",
    "\n",
    "largest_remainders = np.argpartition(rounded_down, -leftover)[-leftover:]\n"
   ]
  },
  {
   "cell_type": "code",
   "execution_count": null,
   "metadata": {},
   "outputs": [],
   "source": [
    "### THere's some kind of bug where the rounded down values sometimes leave us with too many leftovers\n"
   ]
  },
  {
   "cell_type": "code",
   "execution_count": 116,
   "metadata": {},
   "outputs": [
    {
     "data": {
      "text/plain": [
       "0"
      ]
     },
     "execution_count": 116,
     "metadata": {},
     "output_type": "execute_result"
    }
   ],
   "source": [
    "140 % 4"
   ]
  },
  {
   "cell_type": "code",
   "execution_count": 117,
   "metadata": {},
   "outputs": [
    {
     "data": {
      "text/plain": [
       "array([0, 1, 2, 3, 4, 5, 6, 7])"
      ]
     },
     "execution_count": 117,
     "metadata": {},
     "output_type": "execute_result"
    }
   ],
   "source": [
    "np.argpartition(rounded_down, 0)"
   ]
  },
  {
   "cell_type": "code",
   "execution_count": 118,
   "metadata": {},
   "outputs": [
    {
     "data": {
      "text/plain": [
       "array([0, 1, 2, 3, 4, 5, 6, 7])"
      ]
     },
     "execution_count": 118,
     "metadata": {},
     "output_type": "execute_result"
    }
   ],
   "source": [
    "largest_remainders"
   ]
  },
  {
   "cell_type": "code",
   "execution_count": 119,
   "metadata": {},
   "outputs": [],
   "source": [
    "adjusted_bin_counts[largest_remainders] += 1"
   ]
  },
  {
   "cell_type": "code",
   "execution_count": 120,
   "metadata": {},
   "outputs": [
    {
     "data": {
      "text/plain": [
       "-6.0"
      ]
     },
     "execution_count": 120,
     "metadata": {},
     "output_type": "execute_result"
    }
   ],
   "source": [
    "sum(bin_counts - adjusted_bin_counts)"
   ]
  },
  {
   "cell_type": "code",
   "execution_count": 30,
   "metadata": {},
   "outputs": [
    {
     "data": {
      "text/plain": [
       "10000"
      ]
     },
     "execution_count": 30,
     "metadata": {},
     "output_type": "execute_result"
    }
   ],
   "source": [
    "normal_sample = np.array([])\n",
    "\n",
    "for i in range(k):\n",
    "    count = adjusted_bin_counts[i]\n",
    "    strip = sub_strips_pairs[i]\n",
    "    sample = rand(int(count)) * strip_width + strip[0]\n",
    "    normal_sample = np.append(normal_sample, sample)\n",
    "    \n",
    "len(normal_sample) ## sanity check"
   ]
  },
  {
   "cell_type": "code",
   "execution_count": 31,
   "metadata": {},
   "outputs": [
    {
     "data": {
      "text/plain": [
       "10000"
      ]
     },
     "execution_count": 31,
     "metadata": {},
     "output_type": "execute_result"
    }
   ],
   "source": [
    "normal_sample2 = np.array([])\n",
    "\n",
    "for i in range(k):\n",
    "    count = adjusted_bin_counts[i]\n",
    "    strip = sub_strips_pairs[i]\n",
    "    sample = rand(int(count)) * strip_width + strip[0]\n",
    "    normal_sample2 = np.append(normal_sample2, sample)\n",
    "    \n",
    "len(normal_sample2) ## sanity check"
   ]
  },
  {
   "cell_type": "code",
   "execution_count": 32,
   "metadata": {},
   "outputs": [
    {
     "data": {
      "text/plain": [
       "array([False, False, False, ..., False, False, False])"
      ]
     },
     "execution_count": 32,
     "metadata": {},
     "output_type": "execute_result"
    }
   ],
   "source": [
    "normal_sample == normal_sample2"
   ]
  },
  {
   "cell_type": "code",
   "execution_count": 23,
   "metadata": {},
   "outputs": [
    {
     "data": {
      "text/plain": [
       "0.9873125081898888"
      ]
     },
     "execution_count": 23,
     "metadata": {},
     "output_type": "execute_result"
    }
   ],
   "source": [
    "idx = np.random.randint(len(normal_sample))\n",
    "normal_sample[idx]"
   ]
  },
  {
   "cell_type": "code",
   "execution_count": 24,
   "metadata": {},
   "outputs": [
    {
     "data": {
      "image/png": "[encoded data removed]",
      "text/plain": [
       "<Figure size 432x288 with 1 Axes>"
      ]
     },
     "metadata": {
      "needs_background": "light"
     },
     "output_type": "display_data"
    }
   ],
   "source": [
    "plt.hist(normal_sample, bins=100)\n",
    "plt.show()"
   ]
  },
  {
   "cell_type": "code",
   "execution_count": 25,
   "metadata": {},
   "outputs": [],
   "source": [
    "g = (trap_area(*norm(s, mu, sigma),0.1) for s in sub_strips_pairs)"
   ]
  },
  {
   "cell_type": "code",
   "execution_count": 253,
   "metadata": {},
   "outputs": [],
   "source": [
    "class normal_distribution():\n",
    "    \n",
    "    def __init__(self, mu, sigma, num_sigma=4):\n",
    "        self.mu = mu\n",
    "        self.sigma = sigma\n",
    "        self.tails = np.array([mu - sigma * num_sigma, mu + sigma * num_sigma])\n",
    "        self.normal_sample = np.array([])\n",
    "    \n",
    "    def _generate_sample(self, bins=80, num_samples=10000):\n",
    "        \n",
    "        if bins <= 5:\n",
    "            return \"too few bins to make this work!\"\n",
    "        \n",
    "        strip_width = (self.tails[1] - self.tails[0]) / bins            \n",
    "        sub_strips = np.linspace(*self.tails, bins + 1)\n",
    "        sub_strips_pairs = [np.array([sub_strips[p], sub_strips[p + 1]]) for p in range(bins)]\n",
    "    \n",
    "        ## the area of the strip tells us how many values we want to select, as a proportion of n\n",
    "        ## create an array of areas\n",
    "\n",
    "        area_array = np.array([self._trapezium_area(*self._normal_pdf(s, mu, sigma), strip_width) for s in sub_strips_pairs])\n",
    "        # https://en.wikipedia.org/wiki/Largest_remainder_method\n",
    "        # https://stackoverflow.com/questions/13483430/how-to-make-rounded-percentages-add-up-to-100\n",
    "        # calculate bin counts using largest remainder method\n",
    "\n",
    "        bin_counts = self._largest_remainder(area_array, num_samples)   \n",
    "\n",
    "        for i in range(bins):\n",
    "            count = bin_counts[i]\n",
    "            strip = sub_strips_pairs[i]\n",
    "            strip_sample = rand(int(count)) * strip_width + strip[0]\n",
    "            self.normal_sample = np.append(self.normal_sample, strip_sample)\n",
    "            \n",
    "            \n",
    "    def _trapezium_area(self, y1, y2, width):\n",
    "        return 0.5 * (y1 + y2) * width\n",
    "          \n",
    "    def _largest_remainder(self, area_array, n):\n",
    "        leftover = int(n - (np.floor(area_array * n)).sum())\n",
    "        bin_counts = np.floor(area_array * n)\n",
    "        rounded_down = area_array * n - bin_counts\n",
    "        largest_remainders = np.argpartition(rounded_down, -leftover)[-leftover:]\n",
    "        adjusted_bin_counts = bin_counts.copy()\n",
    "        adjusted_bin_counts[largest_remainders] += 1\n",
    "        return adjusted_bin_counts\n",
    "        \n",
    "    def _normal_pdf(self, x_array, m, s):\n",
    "        point_array = 1 / np.sqrt(2 * pi * s ** 2) * np.exp((-(x_array - mu) ** 2) / 2 * s ** 2)\n",
    "        return(point_array)\n",
    "        \n",
    "    \n",
    "    def sample(self,n):\n",
    "        \n",
    "        self._generate_sample()\n",
    "    \n",
    "        if n > len(self.normal_sample):\n",
    "            raise IndexError\n",
    "        \n",
    "        idx = np.random.randint(0,len(self.normal_sample), n)\n",
    "        \n",
    "        return self.normal_sample[idx]\n",
    "        "
   ]
  },
  {
   "cell_type": "code",
   "execution_count": 275,
   "metadata": {},
   "outputs": [
    {
     "data": {
      "image/png": "[encoded data removed]",
      "text/plain": [
       "<Figure size 432x288 with 1 Axes>"
      ]
     },
     "metadata": {
      "needs_background": "light"
     },
     "output_type": "display_data"
    }
   ],
   "source": [
    "my_sampler = normal_distribution(0,1)\n",
    "\n",
    "\n",
    "\n",
    "plt.hist(my_sampler.sample(500), bins=100)\n",
    "plt.show()"
   ]
  },
  {
   "cell_type": "code",
   "execution_count": null,
   "metadata": {},
   "outputs": [],
   "source": [
    "#TODO\n",
    "\n",
    "\n",
    "# test implementation with increasing accuracy, show that its slow \n",
    "\n",
    "# Start the box_mueller implementation"
   ]
  }
 ],
 "metadata": {
  "kernelspec": {
   "display_name": "Python 3",
   "language": "python",
   "name": "python3"
  },
  "language_info": {
   "codemirror_mode": {
    "name": "ipython",
    "version": 3
   },
   "file_extension": ".py",
   "mimetype": "text/x-python",
   "name": "python",
   "nbconvert_exporter": "python",
   "pygments_lexer": "ipython3",
   "version": "3.7.1"
  }
 },
 "nbformat": 4,
 "nbformat_minor": 2
}
